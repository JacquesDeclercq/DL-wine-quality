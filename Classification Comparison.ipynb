{
 "cells": [
  {
   "cell_type": "markdown",
   "metadata": {},
   "source": [
    "# Deep learning - Wine Quality challenge"
   ]
  },
  {
   "cell_type": "markdown",
   "metadata": {},
   "source": [
    "### Importing Libraries"
   ]
  },
  {
   "cell_type": "code",
   "execution_count": 1,
   "metadata": {},
   "outputs": [],
   "source": [
    "import pandas as pd\n",
    "import numpy as np\n",
    "import tensorflow as tf\n",
    "from tensorflow import keras\n",
    "from matplotlib import pyplot as plt\n",
    "%matplotlib inline\n",
    "from matplotlib.pyplot import style\n",
    "style.use('seaborn-whitegrid')\n",
    "import seaborn as sns\n",
    "import itertools\n",
    "from sklearn.model_selection import train_test_split\n",
    "from sklearn.metrics import classification_report, confusion_matrix\n",
    "from sklearn.preprocessing import StandardScaler\n",
    "from sklearn.preprocessing import normalize\n",
    "from tensorflow.keras.utils import to_categorical\n",
    "from tensorflow.keras.models import Sequential\n",
    "from keras.utils import np_utils\n",
    "from keras.layers.core import Dense, Activation\n",
    "from tensorflow.keras.layers import BatchNormalization\n",
    "from tensorflow.keras.layers import Conv2D\n",
    "from tensorflow.keras.layers import Dense\n",
    "from tensorflow.keras.layers import Flatten\n",
    "from tensorflow.keras.layers import MaxPooling2D\n",
    "from tensorflow.keras.optimizers import SGD, RMSprop, Adam\n",
    "from keras.regularizers import l2"
   ]
  },
  {
   "cell_type": "markdown",
   "metadata": {},
   "source": [
    "### LOAD DATASET"
   ]
  },
  {
   "cell_type": "code",
   "execution_count": 2,
   "metadata": {},
   "outputs": [],
   "source": [
    "df = pd.read_csv('wine.csv', index_col = 0)"
   ]
  },
  {
   "cell_type": "code",
   "execution_count": 3,
   "metadata": {},
   "outputs": [],
   "source": [
    "names = df.columns"
   ]
  },
  {
   "cell_type": "code",
   "execution_count": 4,
   "metadata": {},
   "outputs": [
    {
     "data": {
      "text/html": [
       "<div>\n",
       "<style scoped>\n",
       "    .dataframe tbody tr th:only-of-type {\n",
       "        vertical-align: middle;\n",
       "    }\n",
       "\n",
       "    .dataframe tbody tr th {\n",
       "        vertical-align: top;\n",
       "    }\n",
       "\n",
       "    .dataframe thead th {\n",
       "        text-align: right;\n",
       "    }\n",
       "</style>\n",
       "<table border=\"1\" class=\"dataframe\">\n",
       "  <thead>\n",
       "    <tr style=\"text-align: right;\">\n",
       "      <th></th>\n",
       "      <th>fixed acidity</th>\n",
       "      <th>volatile acidity</th>\n",
       "      <th>citric acid</th>\n",
       "      <th>residual sugar</th>\n",
       "      <th>chlorides</th>\n",
       "      <th>free sulfur dioxide</th>\n",
       "      <th>total sulfur dioxide</th>\n",
       "      <th>density</th>\n",
       "      <th>pH</th>\n",
       "      <th>sulphates</th>\n",
       "      <th>alcohol</th>\n",
       "      <th>quality</th>\n",
       "    </tr>\n",
       "  </thead>\n",
       "  <tbody>\n",
       "    <tr>\n",
       "      <th>0</th>\n",
       "      <td>0.193478</td>\n",
       "      <td>0.018302</td>\n",
       "      <td>0.000000</td>\n",
       "      <td>0.049677</td>\n",
       "      <td>0.001987</td>\n",
       "      <td>0.287602</td>\n",
       "      <td>0.888952</td>\n",
       "      <td>0.026088</td>\n",
       "      <td>0.091771</td>\n",
       "      <td>0.014642</td>\n",
       "      <td>0.245769</td>\n",
       "      <td>0.130728</td>\n",
       "    </tr>\n",
       "    <tr>\n",
       "      <th>1</th>\n",
       "      <td>0.106989</td>\n",
       "      <td>0.012071</td>\n",
       "      <td>0.000000</td>\n",
       "      <td>0.035663</td>\n",
       "      <td>0.001344</td>\n",
       "      <td>0.342913</td>\n",
       "      <td>0.919006</td>\n",
       "      <td>0.013673</td>\n",
       "      <td>0.043893</td>\n",
       "      <td>0.009327</td>\n",
       "      <td>0.134422</td>\n",
       "      <td>0.068583</td>\n",
       "    </tr>\n",
       "    <tr>\n",
       "      <th>2</th>\n",
       "      <td>0.134949</td>\n",
       "      <td>0.013149</td>\n",
       "      <td>0.000692</td>\n",
       "      <td>0.039793</td>\n",
       "      <td>0.001592</td>\n",
       "      <td>0.259517</td>\n",
       "      <td>0.934261</td>\n",
       "      <td>0.017249</td>\n",
       "      <td>0.056402</td>\n",
       "      <td>0.011246</td>\n",
       "      <td>0.169551</td>\n",
       "      <td>0.086506</td>\n",
       "    </tr>\n",
       "    <tr>\n",
       "      <th>3</th>\n",
       "      <td>0.173611</td>\n",
       "      <td>0.004340</td>\n",
       "      <td>0.008681</td>\n",
       "      <td>0.029452</td>\n",
       "      <td>0.001163</td>\n",
       "      <td>0.263517</td>\n",
       "      <td>0.930059</td>\n",
       "      <td>0.015470</td>\n",
       "      <td>0.048983</td>\n",
       "      <td>0.008991</td>\n",
       "      <td>0.151910</td>\n",
       "      <td>0.093006</td>\n",
       "    </tr>\n",
       "    <tr>\n",
       "      <th>4</th>\n",
       "      <td>0.193478</td>\n",
       "      <td>0.018302</td>\n",
       "      <td>0.000000</td>\n",
       "      <td>0.049677</td>\n",
       "      <td>0.001987</td>\n",
       "      <td>0.287602</td>\n",
       "      <td>0.888952</td>\n",
       "      <td>0.026088</td>\n",
       "      <td>0.091771</td>\n",
       "      <td>0.014642</td>\n",
       "      <td>0.245769</td>\n",
       "      <td>0.130728</td>\n",
       "    </tr>\n",
       "  </tbody>\n",
       "</table>\n",
       "</div>"
      ],
      "text/plain": [
       "   fixed acidity  volatile acidity  citric acid  residual sugar  chlorides  \\\n",
       "0       0.193478          0.018302     0.000000        0.049677   0.001987   \n",
       "1       0.106989          0.012071     0.000000        0.035663   0.001344   \n",
       "2       0.134949          0.013149     0.000692        0.039793   0.001592   \n",
       "3       0.173611          0.004340     0.008681        0.029452   0.001163   \n",
       "4       0.193478          0.018302     0.000000        0.049677   0.001987   \n",
       "\n",
       "   free sulfur dioxide  total sulfur dioxide   density        pH  sulphates  \\\n",
       "0             0.287602              0.888952  0.026088  0.091771   0.014642   \n",
       "1             0.342913              0.919006  0.013673  0.043893   0.009327   \n",
       "2             0.259517              0.934261  0.017249  0.056402   0.011246   \n",
       "3             0.263517              0.930059  0.015470  0.048983   0.008991   \n",
       "4             0.287602              0.888952  0.026088  0.091771   0.014642   \n",
       "\n",
       "    alcohol   quality  \n",
       "0  0.245769  0.130728  \n",
       "1  0.134422  0.068583  \n",
       "2  0.169551  0.086506  \n",
       "3  0.151910  0.093006  \n",
       "4  0.245769  0.130728  "
      ]
     },
     "execution_count": 4,
     "metadata": {},
     "output_type": "execute_result"
    }
   ],
   "source": [
    "from sklearn import preprocessing\n",
    "\n",
    "df_norm = pd.read_csv('wine.csv', index_col = 0)\n",
    "d = preprocessing.normalize(df_norm)\n",
    "df_norm = pd.DataFrame(d, columns=names)\n",
    "df_norm.head()"
   ]
  },
  {
   "cell_type": "markdown",
   "metadata": {},
   "source": [
    "### FEATURE ENGINEERING"
   ]
  },
  {
   "cell_type": "code",
   "execution_count": 5,
   "metadata": {},
   "outputs": [],
   "source": [
    "quality_to_1 = [7,8,9,10]\n",
    "quality_to_0 = [1,2,3,4,5,6]\n",
    "for quality in quality_to_1:\n",
    "    df['quality'] = df['quality'].replace(quality, '1')\n",
    "\n",
    "for qualit in quality_to_0:\n",
    "    df['quality'] = df['quality'].replace(qualit, '0')"
   ]
  },
  {
   "cell_type": "code",
   "execution_count": 6,
   "metadata": {},
   "outputs": [],
   "source": [
    "df = df.apply(pd.to_numeric)"
   ]
  },
  {
   "cell_type": "code",
   "execution_count": 7,
   "metadata": {},
   "outputs": [],
   "source": [
    "df1 = df[df['quality'] == 1]"
   ]
  },
  {
   "cell_type": "code",
   "execution_count": 8,
   "metadata": {},
   "outputs": [],
   "source": [
    "df_copy = df.append(df1).append(df1).append(df1)"
   ]
  },
  {
   "cell_type": "code",
   "execution_count": 9,
   "metadata": {},
   "outputs": [
    {
     "data": {
      "text/plain": [
       "<bound method NDFrame._add_numeric_operations.<locals>.sum of 0    5220\n",
       "1    5108\n",
       "Name: quality, dtype: int64>"
      ]
     },
     "execution_count": 9,
     "metadata": {},
     "output_type": "execute_result"
    }
   ],
   "source": [
    "df_copy['quality'].value_counts().sum"
   ]
  },
  {
   "cell_type": "code",
   "execution_count": 10,
   "metadata": {},
   "outputs": [],
   "source": [
    "df = df_copy"
   ]
  },
  {
   "cell_type": "code",
   "execution_count": 11,
   "metadata": {},
   "outputs": [
    {
     "name": "stdout",
     "output_type": "stream",
     "text": [
      "<class 'pandas.core.frame.DataFrame'>\n",
      "Int64Index: 10328 entries, 0 to 4896\n",
      "Data columns (total 12 columns):\n",
      " #   Column                Non-Null Count  Dtype  \n",
      "---  ------                --------------  -----  \n",
      " 0   fixed acidity         10328 non-null  float64\n",
      " 1   volatile acidity      10328 non-null  float64\n",
      " 2   citric acid           10328 non-null  float64\n",
      " 3   residual sugar        10328 non-null  float64\n",
      " 4   chlorides             10328 non-null  float64\n",
      " 5   free sulfur dioxide   10328 non-null  float64\n",
      " 6   total sulfur dioxide  10328 non-null  float64\n",
      " 7   density               10328 non-null  float64\n",
      " 8   pH                    10328 non-null  float64\n",
      " 9   sulphates             10328 non-null  float64\n",
      " 10  alcohol               10328 non-null  float64\n",
      " 11  quality               10328 non-null  int64  \n",
      "dtypes: float64(11), int64(1)\n",
      "memory usage: 1.0 MB\n"
     ]
    }
   ],
   "source": [
    "df.info()"
   ]
  },
  {
   "cell_type": "code",
   "execution_count": 12,
   "metadata": {},
   "outputs": [
    {
     "data": {
      "text/html": [
       "<div>\n",
       "<style scoped>\n",
       "    .dataframe tbody tr th:only-of-type {\n",
       "        vertical-align: middle;\n",
       "    }\n",
       "\n",
       "    .dataframe tbody tr th {\n",
       "        vertical-align: top;\n",
       "    }\n",
       "\n",
       "    .dataframe thead th {\n",
       "        text-align: right;\n",
       "    }\n",
       "</style>\n",
       "<table border=\"1\" class=\"dataframe\">\n",
       "  <thead>\n",
       "    <tr style=\"text-align: right;\">\n",
       "      <th></th>\n",
       "      <th>fixed acidity</th>\n",
       "      <th>volatile acidity</th>\n",
       "      <th>citric acid</th>\n",
       "      <th>residual sugar</th>\n",
       "      <th>chlorides</th>\n",
       "      <th>free sulfur dioxide</th>\n",
       "      <th>total sulfur dioxide</th>\n",
       "      <th>density</th>\n",
       "      <th>pH</th>\n",
       "      <th>sulphates</th>\n",
       "      <th>alcohol</th>\n",
       "      <th>quality</th>\n",
       "    </tr>\n",
       "    <tr>\n",
       "      <th>index</th>\n",
       "      <th></th>\n",
       "      <th></th>\n",
       "      <th></th>\n",
       "      <th></th>\n",
       "      <th></th>\n",
       "      <th></th>\n",
       "      <th></th>\n",
       "      <th></th>\n",
       "      <th></th>\n",
       "      <th></th>\n",
       "      <th></th>\n",
       "      <th></th>\n",
       "    </tr>\n",
       "  </thead>\n",
       "  <tbody>\n",
       "    <tr>\n",
       "      <th>0</th>\n",
       "      <td>7.4</td>\n",
       "      <td>0.70</td>\n",
       "      <td>0.00</td>\n",
       "      <td>1.9</td>\n",
       "      <td>0.076</td>\n",
       "      <td>11.0</td>\n",
       "      <td>34.0</td>\n",
       "      <td>0.9978</td>\n",
       "      <td>3.51</td>\n",
       "      <td>0.56</td>\n",
       "      <td>9.4</td>\n",
       "      <td>0</td>\n",
       "    </tr>\n",
       "    <tr>\n",
       "      <th>1</th>\n",
       "      <td>7.8</td>\n",
       "      <td>0.88</td>\n",
       "      <td>0.00</td>\n",
       "      <td>2.6</td>\n",
       "      <td>0.098</td>\n",
       "      <td>25.0</td>\n",
       "      <td>67.0</td>\n",
       "      <td>0.9968</td>\n",
       "      <td>3.20</td>\n",
       "      <td>0.68</td>\n",
       "      <td>9.8</td>\n",
       "      <td>0</td>\n",
       "    </tr>\n",
       "    <tr>\n",
       "      <th>2</th>\n",
       "      <td>7.8</td>\n",
       "      <td>0.76</td>\n",
       "      <td>0.04</td>\n",
       "      <td>2.3</td>\n",
       "      <td>0.092</td>\n",
       "      <td>15.0</td>\n",
       "      <td>54.0</td>\n",
       "      <td>0.9970</td>\n",
       "      <td>3.26</td>\n",
       "      <td>0.65</td>\n",
       "      <td>9.8</td>\n",
       "      <td>0</td>\n",
       "    </tr>\n",
       "    <tr>\n",
       "      <th>3</th>\n",
       "      <td>11.2</td>\n",
       "      <td>0.28</td>\n",
       "      <td>0.56</td>\n",
       "      <td>1.9</td>\n",
       "      <td>0.075</td>\n",
       "      <td>17.0</td>\n",
       "      <td>60.0</td>\n",
       "      <td>0.9980</td>\n",
       "      <td>3.16</td>\n",
       "      <td>0.58</td>\n",
       "      <td>9.8</td>\n",
       "      <td>0</td>\n",
       "    </tr>\n",
       "    <tr>\n",
       "      <th>4</th>\n",
       "      <td>7.4</td>\n",
       "      <td>0.70</td>\n",
       "      <td>0.00</td>\n",
       "      <td>1.9</td>\n",
       "      <td>0.076</td>\n",
       "      <td>11.0</td>\n",
       "      <td>34.0</td>\n",
       "      <td>0.9978</td>\n",
       "      <td>3.51</td>\n",
       "      <td>0.56</td>\n",
       "      <td>9.4</td>\n",
       "      <td>0</td>\n",
       "    </tr>\n",
       "  </tbody>\n",
       "</table>\n",
       "</div>"
      ],
      "text/plain": [
       "       fixed acidity  volatile acidity  citric acid  residual sugar  \\\n",
       "index                                                                 \n",
       "0                7.4              0.70         0.00             1.9   \n",
       "1                7.8              0.88         0.00             2.6   \n",
       "2                7.8              0.76         0.04             2.3   \n",
       "3               11.2              0.28         0.56             1.9   \n",
       "4                7.4              0.70         0.00             1.9   \n",
       "\n",
       "       chlorides  free sulfur dioxide  total sulfur dioxide  density    pH  \\\n",
       "index                                                                        \n",
       "0          0.076                 11.0                  34.0   0.9978  3.51   \n",
       "1          0.098                 25.0                  67.0   0.9968  3.20   \n",
       "2          0.092                 15.0                  54.0   0.9970  3.26   \n",
       "3          0.075                 17.0                  60.0   0.9980  3.16   \n",
       "4          0.076                 11.0                  34.0   0.9978  3.51   \n",
       "\n",
       "       sulphates  alcohol  quality  \n",
       "index                               \n",
       "0           0.56      9.4        0  \n",
       "1           0.68      9.8        0  \n",
       "2           0.65      9.8        0  \n",
       "3           0.58      9.8        0  \n",
       "4           0.56      9.4        0  "
      ]
     },
     "execution_count": 12,
     "metadata": {},
     "output_type": "execute_result"
    }
   ],
   "source": [
    "X = df.drop('quality', axis = 1)\n",
    "y = df['quality']\n",
    "\n",
    "df.head()"
   ]
  },
  {
   "cell_type": "code",
   "execution_count": 13,
   "metadata": {},
   "outputs": [
    {
     "data": {
      "text/plain": [
       "((10328, 11), (10328,))"
      ]
     },
     "execution_count": 13,
     "metadata": {},
     "output_type": "execute_result"
    }
   ],
   "source": [
    "X.shape, y.shape"
   ]
  },
  {
   "cell_type": "code",
   "execution_count": 13,
   "metadata": {},
   "outputs": [
    {
     "ename": "NameError",
     "evalue": "name 'X_train' is not defined",
     "output_type": "error",
     "traceback": [
      "\u001b[0;31m---------------------------------------------------------------------------\u001b[0m",
      "\u001b[0;31mNameError\u001b[0m                                 Traceback (most recent call last)",
      "\u001b[0;32m/var/folders/ft/nh8zvn_x08sfc1y35nfy8stc0000gn/T/ipykernel_87673/2406985385.py\u001b[0m in \u001b[0;36m<module>\u001b[0;34m\u001b[0m\n\u001b[0;32m----> 1\u001b[0;31m \u001b[0mX_train\u001b[0m\u001b[0;34m.\u001b[0m\u001b[0mshape\u001b[0m\u001b[0;34m,\u001b[0m \u001b[0my_train\u001b[0m\u001b[0;34m.\u001b[0m\u001b[0mshape\u001b[0m\u001b[0;34m\u001b[0m\u001b[0;34m\u001b[0m\u001b[0m\n\u001b[0m",
      "\u001b[0;31mNameError\u001b[0m: name 'X_train' is not defined"
     ]
    }
   ],
   "source": [
    "X_train.shape, y_train.shape"
   ]
  },
  {
   "cell_type": "code",
   "execution_count": null,
   "metadata": {},
   "outputs": [],
   "source": [
    "X_test.shape, y_test.shape"
   ]
  },
  {
   "cell_type": "markdown",
   "metadata": {},
   "source": [
    "## PLOTS"
   ]
  },
  {
   "cell_type": "code",
   "execution_count": 47,
   "metadata": {},
   "outputs": [
    {
     "data": {
      "image/png": "[encoded data removed]",
      "text/plain": [
       "<Figure size 432x288 with 1 Axes>"
      ]
     },
     "metadata": {},
     "output_type": "display_data"
    }
   ],
   "source": [
    "fig = plt.figure()\n",
    "ax = fig.add_subplot(111)\n",
    "ax.set(xlabel = 'total sulfur dioxide',\n",
    "      ylabel = 'free sulfur dioxide')\n",
    "ax.scatter(df['total sulfur dioxide'], df['free sulfur dioxide'], c='r')\n",
    "plt.show()"
   ]
  },
  {
   "cell_type": "code",
   "execution_count": 48,
   "metadata": {},
   "outputs": [
    {
     "data": {
      "text/plain": [
       "<AxesSubplot:>"
      ]
     },
     "execution_count": 48,
     "metadata": {},
     "output_type": "execute_result"
    },
    {
     "data": {
      "image/png": "[encoded data removed]",
      "text/plain": [
       "<Figure size 432x288 with 1 Axes>"
      ]
     },
     "metadata": {},
     "output_type": "display_data"
    }
   ],
   "source": [
    "df['quality'].hist()"
   ]
  },
  {
   "cell_type": "code",
   "execution_count": 49,
   "metadata": {},
   "outputs": [
    {
     "data": {
      "text/plain": [
       "<AxesSubplot:>"
      ]
     },
     "execution_count": 49,
     "metadata": {},
     "output_type": "execute_result"
    },
    {
     "data": {
      "image/png": "[encoded data removed]",
      "text/plain": [
       "<Figure size 432x288 with 1 Axes>"
      ]
     },
     "metadata": {},
     "output_type": "display_data"
    }
   ],
   "source": [
    "df['total sulfur dioxide'].hist()"
   ]
  },
  {
   "cell_type": "code",
   "execution_count": 50,
   "metadata": {},
   "outputs": [
    {
     "data": {
      "text/plain": [
       "<AxesSubplot:>"
      ]
     },
     "execution_count": 50,
     "metadata": {},
     "output_type": "execute_result"
    },
    {
     "data": {
      "image/png": "[encoded data removed]",
      "text/plain": [
       "<Figure size 864x864 with 2 Axes>"
      ]
     },
     "metadata": {},
     "output_type": "display_data"
    }
   ],
   "source": [
    "plt.figure(figsize=(12,12))\n",
    "sns.heatmap(df.corr(),annot = True)"
   ]
  },
  {
   "cell_type": "code",
   "execution_count": 159,
   "metadata": {},
   "outputs": [
    {
     "data": {
      "text/plain": [
       "<AxesSubplot:>"
      ]
     },
     "execution_count": 159,
     "metadata": {},
     "output_type": "execute_result"
    },
    {
     "data": {
      "image/png": "[encoded data removed]",
      "text/plain": [
       "<Figure size 432x288 with 1 Axes>"
      ]
     },
     "metadata": {},
     "output_type": "display_data"
    }
   ],
   "source": [
    "df['quality'].hist()"
   ]
  },
  {
   "cell_type": "markdown",
   "metadata": {},
   "source": [
    "## Train & Test Set Splits"
   ]
  },
  {
   "cell_type": "markdown",
   "metadata": {},
   "source": [
    "#### Original Data Splits"
   ]
  },
  {
   "cell_type": "code",
   "execution_count": 14,
   "metadata": {},
   "outputs": [],
   "source": [
    "X_train, X_test, y_train, y_test = train_test_split(X, y, test_size=0.2)"
   ]
  },
  {
   "cell_type": "markdown",
   "metadata": {},
   "source": [
    "#### Normalized Data Splits"
   ]
  },
  {
   "cell_type": "code",
   "execution_count": 15,
   "metadata": {
    "scrolled": true
   },
   "outputs": [
    {
     "data": {
      "text/html": [
       "<div>\n",
       "<style scoped>\n",
       "    .dataframe tbody tr th:only-of-type {\n",
       "        vertical-align: middle;\n",
       "    }\n",
       "\n",
       "    .dataframe tbody tr th {\n",
       "        vertical-align: top;\n",
       "    }\n",
       "\n",
       "    .dataframe thead th {\n",
       "        text-align: right;\n",
       "    }\n",
       "</style>\n",
       "<table border=\"1\" class=\"dataframe\">\n",
       "  <thead>\n",
       "    <tr style=\"text-align: right;\">\n",
       "      <th></th>\n",
       "      <th>fixed acidity</th>\n",
       "      <th>volatile acidity</th>\n",
       "      <th>citric acid</th>\n",
       "      <th>residual sugar</th>\n",
       "      <th>chlorides</th>\n",
       "      <th>free sulfur dioxide</th>\n",
       "      <th>total sulfur dioxide</th>\n",
       "      <th>density</th>\n",
       "      <th>pH</th>\n",
       "      <th>sulphates</th>\n",
       "      <th>alcohol</th>\n",
       "      <th>quality</th>\n",
       "    </tr>\n",
       "    <tr>\n",
       "      <th>index</th>\n",
       "      <th></th>\n",
       "      <th></th>\n",
       "      <th></th>\n",
       "      <th></th>\n",
       "      <th></th>\n",
       "      <th></th>\n",
       "      <th></th>\n",
       "      <th></th>\n",
       "      <th></th>\n",
       "      <th></th>\n",
       "      <th></th>\n",
       "      <th></th>\n",
       "    </tr>\n",
       "  </thead>\n",
       "  <tbody>\n",
       "    <tr>\n",
       "      <th>0</th>\n",
       "      <td>7.4</td>\n",
       "      <td>0.70</td>\n",
       "      <td>0.00</td>\n",
       "      <td>1.9</td>\n",
       "      <td>0.076</td>\n",
       "      <td>11.0</td>\n",
       "      <td>34.0</td>\n",
       "      <td>0.9978</td>\n",
       "      <td>3.51</td>\n",
       "      <td>0.56</td>\n",
       "      <td>9.4</td>\n",
       "      <td>0</td>\n",
       "    </tr>\n",
       "    <tr>\n",
       "      <th>1</th>\n",
       "      <td>7.8</td>\n",
       "      <td>0.88</td>\n",
       "      <td>0.00</td>\n",
       "      <td>2.6</td>\n",
       "      <td>0.098</td>\n",
       "      <td>25.0</td>\n",
       "      <td>67.0</td>\n",
       "      <td>0.9968</td>\n",
       "      <td>3.20</td>\n",
       "      <td>0.68</td>\n",
       "      <td>9.8</td>\n",
       "      <td>0</td>\n",
       "    </tr>\n",
       "    <tr>\n",
       "      <th>2</th>\n",
       "      <td>7.8</td>\n",
       "      <td>0.76</td>\n",
       "      <td>0.04</td>\n",
       "      <td>2.3</td>\n",
       "      <td>0.092</td>\n",
       "      <td>15.0</td>\n",
       "      <td>54.0</td>\n",
       "      <td>0.9970</td>\n",
       "      <td>3.26</td>\n",
       "      <td>0.65</td>\n",
       "      <td>9.8</td>\n",
       "      <td>0</td>\n",
       "    </tr>\n",
       "    <tr>\n",
       "      <th>3</th>\n",
       "      <td>11.2</td>\n",
       "      <td>0.28</td>\n",
       "      <td>0.56</td>\n",
       "      <td>1.9</td>\n",
       "      <td>0.075</td>\n",
       "      <td>17.0</td>\n",
       "      <td>60.0</td>\n",
       "      <td>0.9980</td>\n",
       "      <td>3.16</td>\n",
       "      <td>0.58</td>\n",
       "      <td>9.8</td>\n",
       "      <td>0</td>\n",
       "    </tr>\n",
       "    <tr>\n",
       "      <th>4</th>\n",
       "      <td>7.4</td>\n",
       "      <td>0.70</td>\n",
       "      <td>0.00</td>\n",
       "      <td>1.9</td>\n",
       "      <td>0.076</td>\n",
       "      <td>11.0</td>\n",
       "      <td>34.0</td>\n",
       "      <td>0.9978</td>\n",
       "      <td>3.51</td>\n",
       "      <td>0.56</td>\n",
       "      <td>9.4</td>\n",
       "      <td>0</td>\n",
       "    </tr>\n",
       "  </tbody>\n",
       "</table>\n",
       "</div>"
      ],
      "text/plain": [
       "       fixed acidity  volatile acidity  citric acid  residual sugar  \\\n",
       "index                                                                 \n",
       "0                7.4              0.70         0.00             1.9   \n",
       "1                7.8              0.88         0.00             2.6   \n",
       "2                7.8              0.76         0.04             2.3   \n",
       "3               11.2              0.28         0.56             1.9   \n",
       "4                7.4              0.70         0.00             1.9   \n",
       "\n",
       "       chlorides  free sulfur dioxide  total sulfur dioxide  density    pH  \\\n",
       "index                                                                        \n",
       "0          0.076                 11.0                  34.0   0.9978  3.51   \n",
       "1          0.098                 25.0                  67.0   0.9968  3.20   \n",
       "2          0.092                 15.0                  54.0   0.9970  3.26   \n",
       "3          0.075                 17.0                  60.0   0.9980  3.16   \n",
       "4          0.076                 11.0                  34.0   0.9978  3.51   \n",
       "\n",
       "       sulphates  alcohol  quality  \n",
       "index                               \n",
       "0           0.56      9.4        0  \n",
       "1           0.68      9.8        0  \n",
       "2           0.65      9.8        0  \n",
       "3           0.58      9.8        0  \n",
       "4           0.56      9.4        0  "
      ]
     },
     "execution_count": 15,
     "metadata": {},
     "output_type": "execute_result"
    }
   ],
   "source": [
    "Xn = df_norm.drop('quality', axis = 1)\n",
    "yn = df_norm['quality']\n",
    "Xn_train, Xn_test, yn_train, yn_test = train_test_split(Xn, yn, test_size=0.2)\n",
    "df.head()"
   ]
  },
  {
   "cell_type": "markdown",
   "metadata": {},
   "source": [
    "### STANDARDIZED DATA SPLITS"
   ]
  },
  {
   "cell_type": "code",
   "execution_count": 16,
   "metadata": {},
   "outputs": [],
   "source": [
    "scaler = StandardScaler().fit(X_train)\n",
    "X_train_s = scaler.transform(X_train)  # scaler should be fitted to train only not the entire set\n",
    "X_test_s = scaler.transform(X_test)"
   ]
  },
  {
   "cell_type": "code",
   "execution_count": null,
   "metadata": {},
   "outputs": [],
   "source": []
  },
  {
   "cell_type": "code",
   "execution_count": null,
   "metadata": {},
   "outputs": [],
   "source": []
  },
  {
   "cell_type": "code",
   "execution_count": null,
   "metadata": {},
   "outputs": [],
   "source": []
  },
  {
   "cell_type": "markdown",
   "metadata": {},
   "source": [
    "### FUNCTIONS"
   ]
  },
  {
   "cell_type": "code",
   "execution_count": 17,
   "metadata": {},
   "outputs": [],
   "source": [
    "def plot_confusion_matrix(cm, classes,\n",
    "                        normalize=False,\n",
    "                        title='Confusion matrix',\n",
    "                        cmap=plt.cm.Reds, figsize=(10,10)):\n",
    "    \"\"\"\n",
    "    This function prints and plots the confusion matrix.\n",
    "    Normalization can be applied by setting `normalize=True`.\n",
    "    \"\"\"\n",
    "    plt.imshow(cm, interpolation='nearest', cmap=cmap)\n",
    "    plt.title(title)\n",
    "    plt.colorbar()\n",
    "    tick_marks = np.arange(len(classes))\n",
    "    plt.xticks(tick_marks, classes, rotation=45)\n",
    "    plt.yticks(tick_marks, classes)\n",
    "\n",
    "    if normalize:\n",
    "        cm = cm.astype('float') / cm.sum(axis=1)[:, np.newaxis]\n",
    "        print(\"Normalized confusion matrix\")\n",
    "    else:\n",
    "        print('Confusion matrix, without normalization')\n",
    "\n",
    "    print(cm)\n",
    "\n",
    "    thresh = cm.max() / 2.\n",
    "    for i, j in itertools.product(range(cm.shape[0]), range(cm.shape[1])):\n",
    "        plt.text(j, i, cm[i, j],\n",
    "            horizontalalignment=\"center\",\n",
    "            color=\"white\" if cm[i, j] > thresh else \"black\")\n",
    "    plt.tight_layout()\n",
    "    plt.ylabel('True label')\n",
    "    plt.xlabel('Predicted label')"
   ]
  },
  {
   "cell_type": "code",
   "execution_count": 18,
   "metadata": {},
   "outputs": [],
   "source": [
    "cm_plot_labels = ['Good Wine','Bad Wine']"
   ]
  },
  {
   "cell_type": "markdown",
   "metadata": {},
   "source": [
    "### Deep Learning Model - BASE"
   ]
  },
  {
   "cell_type": "code",
   "execution_count": 95,
   "metadata": {},
   "outputs": [
    {
     "name": "stderr",
     "output_type": "stream",
     "text": [
      "/Users/jacquesdeclercq/opt/miniconda3/envs/tensorflow/lib/python3.8/site-packages/keras/optimizer_v2/optimizer_v2.py:355: UserWarning: The `lr` argument is deprecated, use `learning_rate` instead.\n",
      "  warnings.warn(\n"
     ]
    },
    {
     "name": "stdout",
     "output_type": "stream",
     "text": [
      "Epoch 1/200\n",
      "3/3 [==============================] - 1s 69ms/step - loss: 0.3057 - accuracy: 0.4897 - val_loss: 0.2614 - val_accuracy: 0.5204\n",
      "Epoch 2/200\n",
      "3/3 [==============================] - 0s 13ms/step - loss: 0.2647 - accuracy: 0.5067 - val_loss: 0.2549 - val_accuracy: 0.5430\n",
      "Epoch 3/200\n",
      "3/3 [==============================] - 0s 12ms/step - loss: 0.2594 - accuracy: 0.5077 - val_loss: 0.2531 - val_accuracy: 0.5418\n",
      "Epoch 4/200\n",
      "3/3 [==============================] - 0s 12ms/step - loss: 0.2559 - accuracy: 0.5227 - val_loss: 0.2525 - val_accuracy: 0.5264\n",
      "Epoch 5/200\n",
      "3/3 [==============================] - 0s 14ms/step - loss: 0.2541 - accuracy: 0.5255 - val_loss: 0.2526 - val_accuracy: 0.5422\n",
      "Epoch 6/200\n",
      "3/3 [==============================] - 0s 12ms/step - loss: 0.2529 - accuracy: 0.5336 - val_loss: 0.2529 - val_accuracy: 0.5208\n",
      "Epoch 7/200\n",
      "3/3 [==============================] - 0s 14ms/step - loss: 0.2524 - accuracy: 0.5464 - val_loss: 0.2527 - val_accuracy: 0.5252\n"
     ]
    }
   ],
   "source": [
    "# Import EarlyStopping\n",
    "from keras.callbacks import EarlyStopping\n",
    "\n",
    "# Specify the model\n",
    "model = Sequential()\n",
    "\n",
    "model.add(Dense(20, activation='relu', input_shape = (11,)))\n",
    "model.add(Dense(40, activation='relu'))\n",
    "model.add(Dense(10, activation='relu'))\n",
    "model.add(Dense(2, activation='softmax'))\n",
    "\n",
    "adam = Adam(lr=0.003)\n",
    "# Compile the model\n",
    "model.compile(optimizer = adam, loss = 'mean_squared_error',\n",
    "metrics=['accuracy'])\n",
    "\n",
    "# Define early_stopping_monitor\n",
    "early_stopping_monitor = EarlyStopping(patience = 3)\n",
    "\n",
    "# Fit the model\n",
    "history_base = model.fit(X_train, y_train,validation_split = 0.3,validation_data=(X_test, y_test),\n",
    "           batch_size=2048, epochs = 200, callbacks = [early_stopping_monitor])\n",
    "\n",
    "pred1 = model.predict(X_test)"
   ]
  },
  {
   "cell_type": "code",
   "execution_count": 96,
   "metadata": {},
   "outputs": [
    {
     "name": "stdout",
     "output_type": "stream",
     "text": [
      "Model: \"sequential_27\"\n",
      "_________________________________________________________________\n",
      "Layer (type)                 Output Shape              Param #   \n",
      "=================================================================\n",
      "dense_95 (Dense)             (None, 20)                240       \n",
      "_________________________________________________________________\n",
      "dense_96 (Dense)             (None, 40)                840       \n",
      "_________________________________________________________________\n",
      "dense_97 (Dense)             (None, 10)                410       \n",
      "_________________________________________________________________\n",
      "dense_98 (Dense)             (None, 2)                 22        \n",
      "=================================================================\n",
      "Total params: 1,512\n",
      "Trainable params: 1,512\n",
      "Non-trainable params: 0\n",
      "_________________________________________________________________\n"
     ]
    }
   ],
   "source": [
    "model.summary()"
   ]
  },
  {
   "cell_type": "markdown",
   "metadata": {},
   "source": [
    "### CONFUSING MATRIX"
   ]
  },
  {
   "cell_type": "code",
   "execution_count": 97,
   "metadata": {},
   "outputs": [
    {
     "name": "stdout",
     "output_type": "stream",
     "text": [
      "Confusion_matrix:  tf.Tensor(\n",
      "[[998  46]\n",
      " [902 120]], shape=(2, 2), dtype=int32)\n"
     ]
    }
   ],
   "source": [
    "# Evaluating confusion matric\n",
    "rounded_pred = np.argmax(pred1, axis=-1)\n",
    "res = tf.math.confusion_matrix(y_test, rounded_pred)\n",
    " \n",
    "# Printing the result\n",
    "print('Confusion_matrix: ',res)"
   ]
  },
  {
   "cell_type": "code",
   "execution_count": 98,
   "metadata": {},
   "outputs": [
    {
     "data": {
      "image/png": "[encoded data removed]",
      "text/plain": [
       "<Figure size 432x288 with 2 Axes>"
      ]
     },
     "metadata": {},
     "output_type": "display_data"
    }
   ],
   "source": [
    "savefig_location = \"conf_base_model.png\"\n",
    "sns.heatmap(res/np.sum(res), annot=True, \n",
    "            fmt='.2%',linewidths=.5, cmap='Reds')\n",
    "plt.savefig(savefig_location, bbox_inches=\"tight\", dpi=880)"
   ]
  },
  {
   "cell_type": "code",
   "execution_count": 99,
   "metadata": {},
   "outputs": [],
   "source": [
    "cm = confusion_matrix(y_true=y_test, y_pred=rounded_pred)"
   ]
  },
  {
   "cell_type": "code",
   "execution_count": 101,
   "metadata": {},
   "outputs": [
    {
     "name": "stdout",
     "output_type": "stream",
     "text": [
      "Confusion matrix, without normalization\n",
      "[[998  46]\n",
      " [902 120]]\n"
     ]
    },
    {
     "data": {
      "image/png": "[encoded data removed]",
      "text/plain": [
       "<Figure size 432x288 with 2 Axes>"
      ]
     },
     "metadata": {},
     "output_type": "display_data"
    }
   ],
   "source": [
    "savefig_location = \"conf2_base_model.png\"\n",
    "plot_confusion_matrix(cm=cm, classes=cm_plot_labels, title='Confusion Matrix')\n",
    "plt.savefig(savefig_location, bbox_inches=\"tight\", dpi=880)"
   ]
  },
  {
   "cell_type": "markdown",
   "metadata": {},
   "source": [
    "## Deep Learning Base Model with Different Loss"
   ]
  },
  {
   "cell_type": "code",
   "execution_count": 105,
   "metadata": {
    "scrolled": true
   },
   "outputs": [
    {
     "name": "stderr",
     "output_type": "stream",
     "text": [
      "/Users/jacquesdeclercq/opt/miniconda3/envs/tensorflow/lib/python3.8/site-packages/keras/optimizer_v2/optimizer_v2.py:355: UserWarning: The `lr` argument is deprecated, use `learning_rate` instead.\n",
      "  warnings.warn(\n"
     ]
    },
    {
     "name": "stdout",
     "output_type": "stream",
     "text": [
      "Epoch 1/10\n",
      "4/4 [==============================] - 1s 54ms/step - loss: 0.0000e+00 - accuracy: 0.4895 - val_loss: 0.0000e+00 - val_accuracy: 0.5148\n",
      "Epoch 2/10\n",
      "4/4 [==============================] - 0s 11ms/step - loss: 0.0000e+00 - accuracy: 0.4895 - val_loss: 0.0000e+00 - val_accuracy: 0.5148\n",
      "Epoch 3/10\n",
      "4/4 [==============================] - 0s 9ms/step - loss: 0.0000e+00 - accuracy: 0.4895 - val_loss: 0.0000e+00 - val_accuracy: 0.5148\n",
      "Epoch 4/10\n",
      "4/4 [==============================] - 0s 9ms/step - loss: 0.0000e+00 - accuracy: 0.4895 - val_loss: 0.0000e+00 - val_accuracy: 0.5148\n",
      "[[1.]\n",
      " [1.]\n",
      " [1.]\n",
      " ...\n",
      " [1.]\n",
      " [1.]\n",
      " [1.]]\n"
     ]
    }
   ],
   "source": [
    "# Import EarlyStopping\n",
    "from keras.callbacks import EarlyStopping\n",
    "\n",
    "# Specify the model\n",
    "model2 = Sequential()\n",
    "\n",
    "model2.add(Dense(20, activation='relu', input_shape = (11,)))\n",
    "model2.add(Dense(40, activation='relu'))\n",
    "model2.add(Dense(10, activation='relu'))\n",
    "model2.add(Dense(1, activation='softmax'))\n",
    "#model2.add(Dense(50, activation='relu', input_shape = (11,)))\n",
    "#model2.add(Dense(154, activation='relu'))\n",
    "#model2.add(Dense(132, activation='relu'))\n",
    "#model2.add(Dense(16, activation='relu'))\n",
    "#model2.add(Dense(1, activation='softmax'))\n",
    "\n",
    "# Compile the model\n",
    "adam = Adam(lr=0.003)\n",
    "          \n",
    "model2.compile(optimizer = adam, loss = 'categorical_crossentropy', metrics=['accuracy'])\n",
    "\n",
    "# Define early_stopping_monitor\n",
    "early_stopping_monitor = EarlyStopping(patience = 3)\n",
    "\n",
    "# Fit the model\n",
    "history_base2 = model2.fit(X_train, y_train, validation_split = 0.2, validation_data=(X_test, y_test),\n",
    "           batch_size=2048, epochs = 10, callbacks = [early_stopping_monitor])\n",
    "\n",
    "pred2 = model2.predict(X_test)\n",
    "          \n",
    "print(pred2)"
   ]
  },
  {
   "cell_type": "code",
   "execution_count": 32,
   "metadata": {},
   "outputs": [
    {
     "name": "stdout",
     "output_type": "stream",
     "text": [
      "Model: \"sequential_4\"\n",
      "_________________________________________________________________\n",
      "Layer (type)                 Output Shape              Param #   \n",
      "=================================================================\n",
      "dense_16 (Dense)             (None, 20)                240       \n",
      "_________________________________________________________________\n",
      "dense_17 (Dense)             (None, 40)                840       \n",
      "_________________________________________________________________\n",
      "dense_18 (Dense)             (None, 10)                410       \n",
      "_________________________________________________________________\n",
      "dense_19 (Dense)             (None, 1)                 11        \n",
      "=================================================================\n",
      "Total params: 1,501\n",
      "Trainable params: 1,501\n",
      "Non-trainable params: 0\n",
      "_________________________________________________________________\n"
     ]
    }
   ],
   "source": [
    "model2.summary()"
   ]
  },
  {
   "cell_type": "markdown",
   "metadata": {},
   "source": [
    "### CONFUSING MATRIX"
   ]
  },
  {
   "cell_type": "code",
   "execution_count": 106,
   "metadata": {},
   "outputs": [
    {
     "name": "stdout",
     "output_type": "stream",
     "text": [
      "Confusion_matrix:  tf.Tensor(\n",
      "[[1044    0]\n",
      " [1022    0]], shape=(2, 2), dtype=int32)\n"
     ]
    }
   ],
   "source": [
    "# Evaluating confusion matric\n",
    "rounded_pred = np.argmax(pred2, axis=-1)\n",
    "res2 = tf.math.confusion_matrix(y_test, rounded_pred)\n",
    " \n",
    "# Printing the result\n",
    "print('Confusion_matrix: ',res2)"
   ]
  },
  {
   "cell_type": "code",
   "execution_count": 112,
   "metadata": {},
   "outputs": [
    {
     "data": {
      "image/png": "[encoded data removed]",
      "text/plain": [
       "<Figure size 432x288 with 2 Axes>"
      ]
     },
     "metadata": {},
     "output_type": "display_data"
    }
   ],
   "source": [
    "savefig_location = \"conf_cross_base_model.png\"\n",
    "sns.heatmap(res2/np.sum(res2), annot=True, \n",
    "            fmt='.2%',linewidths=.5, cmap='Reds')\n",
    "plt.savefig(savefig_location, bbox_inches=\"tight\", dpi=880)"
   ]
  },
  {
   "cell_type": "code",
   "execution_count": 109,
   "metadata": {},
   "outputs": [],
   "source": [
    "cm = confusion_matrix(y_true=y_test, y_pred=rounded_pred)"
   ]
  },
  {
   "cell_type": "code",
   "execution_count": 111,
   "metadata": {},
   "outputs": [
    {
     "name": "stdout",
     "output_type": "stream",
     "text": [
      "Confusion matrix, without normalization\n",
      "[[1044    0]\n",
      " [1022    0]]\n"
     ]
    },
    {
     "data": {
      "image/png": "[encoded data removed]",
      "text/plain": [
       "<Figure size 432x288 with 2 Axes>"
      ]
     },
     "metadata": {},
     "output_type": "display_data"
    }
   ],
   "source": [
    "savefig_location = \"conf_cross_base2_model.png\"\n",
    "plot_confusion_matrix(cm=cm, classes=cm_plot_labels, title='Confusion Matrix')\n",
    "plt.savefig(savefig_location, bbox_inches=\"tight\", dpi=880)"
   ]
  },
  {
   "cell_type": "code",
   "execution_count": null,
   "metadata": {},
   "outputs": [],
   "source": []
  },
  {
   "cell_type": "code",
   "execution_count": null,
   "metadata": {},
   "outputs": [],
   "source": []
  },
  {
   "cell_type": "markdown",
   "metadata": {},
   "source": [
    "### PLOTS COMPARING TWO FIRST MODELS"
   ]
  },
  {
   "cell_type": "code",
   "execution_count": 114,
   "metadata": {},
   "outputs": [
    {
     "data": {
      "image/png": "[encoded data removed]",
      "text/plain": [
       "<Figure size 432x288 with 1 Axes>"
      ]
     },
     "metadata": {},
     "output_type": "display_data"
    }
   ],
   "source": [
    "savefig_location = \"compare_base_model.png\"\n",
    "plt.plot(history_base.history['val_loss'], 'r', history_base2.history['val_loss'], 'b')\n",
    "plt.xlabel('Epochs')\n",
    "plt.ylabel('Validation score')\n",
    "plt.title(\"Difference between Categorical-Classentropy & MSE - loss\")\n",
    "plt.savefig(savefig_location, bbox_inches=\"tight\", dpi=880)\n",
    "plt.show()\n"
   ]
  },
  {
   "cell_type": "markdown",
   "metadata": {},
   "source": [
    "### DEEP LEARNING MODEL WITH NORMALIZED DATA"
   ]
  },
  {
   "cell_type": "code",
   "execution_count": 67,
   "metadata": {},
   "outputs": [
    {
     "name": "stderr",
     "output_type": "stream",
     "text": [
      "/Users/jacquesdeclercq/opt/miniconda3/envs/tensorflow/lib/python3.8/site-packages/keras/optimizer_v2/optimizer_v2.py:355: UserWarning: The `lr` argument is deprecated, use `learning_rate` instead.\n",
      "  warnings.warn(\n"
     ]
    },
    {
     "name": "stdout",
     "output_type": "stream",
     "text": [
      "Epoch 1/200\n",
      "2/2 [==============================] - 1s 132ms/step - loss: 0.1884 - accuracy: 0.0000e+00 - val_loss: 0.1870 - val_accuracy: 0.0000e+00\n",
      "Epoch 2/200\n",
      "2/2 [==============================] - 0s 20ms/step - loss: 0.1883 - accuracy: 0.0000e+00 - val_loss: 0.1870 - val_accuracy: 0.0000e+00\n",
      "Epoch 3/200\n",
      "2/2 [==============================] - 0s 19ms/step - loss: 0.1883 - accuracy: 0.0000e+00 - val_loss: 0.1870 - val_accuracy: 0.0000e+00\n",
      "Epoch 4/200\n",
      "2/2 [==============================] - 0s 21ms/step - loss: 0.1883 - accuracy: 0.0000e+00 - val_loss: 0.1870 - val_accuracy: 0.0000e+00\n"
     ]
    },
    {
     "ename": "AttributeError",
     "evalue": "'History' object has no attribute 'predict'",
     "output_type": "error",
     "traceback": [
      "\u001b[0;31m---------------------------------------------------------------------------\u001b[0m",
      "\u001b[0;31mAttributeError\u001b[0m                            Traceback (most recent call last)",
      "\u001b[0;32m/var/folders/ft/nh8zvn_x08sfc1y35nfy8stc0000gn/T/ipykernel_10842/3319695386.py\u001b[0m in \u001b[0;36m<module>\u001b[0;34m\u001b[0m\n\u001b[1;32m     23\u001b[0m            batch_size=2048, epochs = 200, callbacks = [early_stopping_monitor])\n\u001b[1;32m     24\u001b[0m \u001b[0;34m\u001b[0m\u001b[0m\n\u001b[0;32m---> 25\u001b[0;31m \u001b[0mpred\u001b[0m \u001b[0;34m=\u001b[0m \u001b[0mmodeln\u001b[0m\u001b[0;34m.\u001b[0m\u001b[0mpredict\u001b[0m\u001b[0;34m(\u001b[0m\u001b[0mXn_test\u001b[0m\u001b[0;34m)\u001b[0m\u001b[0;34m\u001b[0m\u001b[0;34m\u001b[0m\u001b[0m\n\u001b[0m",
      "\u001b[0;31mAttributeError\u001b[0m: 'History' object has no attribute 'predict'"
     ]
    }
   ],
   "source": [
    "# Import EarlyStopping\n",
    "from keras.callbacks import EarlyStopping\n",
    "\n",
    "# Specify the model\n",
    "modeln = Sequential()\n",
    "\n",
    "modeln.add(Dense(20, activation='relu', input_shape = (11,)))\n",
    "modeln.add(Dense(40, activation='relu'))\n",
    "modeln.add(Dense(60, activation='relu'))\n",
    "modeln.add(Dense(10, activation='relu'))\n",
    "modeln.add(Dense(2, activation='softmax'))\n",
    "\n",
    "adam = Adam(lr=0.003)\n",
    "# Compile the model\n",
    "modeln.compile(optimizer = adam, loss = 'mean_squared_error',\n",
    "metrics=['accuracy'])\n",
    "\n",
    "# Define early_stopping_monitor\n",
    "early_stopping_monitor = EarlyStopping(patience = 3)\n",
    "\n",
    "# Fit the model\n",
    "modeln = modeln.fit(Xn_train, yn_train,validation_split = 0.3,validation_data=(Xn_test, yn_test),\n",
    "           batch_size=2048, epochs = 200, callbacks = [early_stopping_monitor])\n",
    "\n",
    "pred = modeln.predict(Xn_test)"
   ]
  },
  {
   "cell_type": "code",
   "execution_count": 79,
   "metadata": {},
   "outputs": [
    {
     "ename": "AttributeError",
     "evalue": "'History' object has no attribute 'summary'",
     "output_type": "error",
     "traceback": [
      "\u001b[0;31m---------------------------------------------------------------------------\u001b[0m",
      "\u001b[0;31mAttributeError\u001b[0m                            Traceback (most recent call last)",
      "\u001b[0;32m/var/folders/ft/nh8zvn_x08sfc1y35nfy8stc0000gn/T/ipykernel_9157/1232084239.py\u001b[0m in \u001b[0;36m<module>\u001b[0;34m\u001b[0m\n\u001b[0;32m----> 1\u001b[0;31m \u001b[0mmodel_n\u001b[0m\u001b[0;34m.\u001b[0m\u001b[0msummary\u001b[0m\u001b[0;34m(\u001b[0m\u001b[0;34m)\u001b[0m\u001b[0;34m\u001b[0m\u001b[0;34m\u001b[0m\u001b[0m\n\u001b[0m",
      "\u001b[0;31mAttributeError\u001b[0m: 'History' object has no attribute 'summary'"
     ]
    }
   ],
   "source": [
    "model_n.summary()"
   ]
  },
  {
   "cell_type": "markdown",
   "metadata": {},
   "source": [
    "### CONFUSION MATRIX"
   ]
  },
  {
   "cell_type": "code",
   "execution_count": null,
   "metadata": {},
   "outputs": [],
   "source": []
  },
  {
   "cell_type": "code",
   "execution_count": null,
   "metadata": {},
   "outputs": [],
   "source": []
  },
  {
   "cell_type": "code",
   "execution_count": null,
   "metadata": {},
   "outputs": [],
   "source": []
  },
  {
   "cell_type": "code",
   "execution_count": null,
   "metadata": {},
   "outputs": [],
   "source": []
  },
  {
   "cell_type": "code",
   "execution_count": null,
   "metadata": {},
   "outputs": [],
   "source": []
  },
  {
   "cell_type": "markdown",
   "metadata": {},
   "source": [
    "### DEEP LEARNING MODEL WITH STANDARDIZING DATA"
   ]
  },
  {
   "cell_type": "code",
   "execution_count": 68,
   "metadata": {},
   "outputs": [],
   "source": [
    "y_train_s, y_test_s = to_categorical(y_train), to_categorical(y_test)"
   ]
  },
  {
   "cell_type": "code",
   "execution_count": 125,
   "metadata": {},
   "outputs": [
    {
     "name": "stdout",
     "output_type": "stream",
     "text": [
      "Epoch 1/200\n",
      "3/3 [==============================] - 1s 70ms/step - loss: 0.5093 - accuracy: 0.4907 - val_loss: 0.4966 - val_accuracy: 0.5034\n",
      "Epoch 2/200\n",
      "3/3 [==============================] - 0s 11ms/step - loss: 0.5093 - accuracy: 0.4907 - val_loss: 0.4966 - val_accuracy: 0.5034\n",
      "Epoch 3/200\n",
      "3/3 [==============================] - 0s 11ms/step - loss: 0.5093 - accuracy: 0.4907 - val_loss: 0.4966 - val_accuracy: 0.5034\n",
      "Epoch 4/200\n",
      "3/3 [==============================] - 0s 13ms/step - loss: 0.5093 - accuracy: 0.4907 - val_loss: 0.4966 - val_accuracy: 0.5034\n"
     ]
    }
   ],
   "source": [
    "# Import EarlyStopping\n",
    "from keras.callbacks import EarlyStopping\n",
    "\n",
    "# Specify the model\n",
    "models = Sequential()\n",
    "\n",
    "models.add(Dense(20, activation='relu', input_shape = (11,)))\n",
    "models.add(BatchNormalization())\n",
    "models.add(Dense(40, activation='relu'))\n",
    "models.add(Dense(1, activation='softmax'))\n",
    "\n",
    "adam = Adam(lr=0.003)\n",
    "# Compile the model\n",
    "models.compile(optimizer = adam, loss = 'mean_squared_error',\n",
    "metrics=['accuracy'])\n",
    "\n",
    "# Define early_stopping_monitor\n",
    "early_stopping_monitor = EarlyStopping(patience = 3)\n",
    "\n",
    "# Fit the model\n",
    "models_history = models.fit(X_train_s, y_train,validation_split = 0.3,validation_data=(X_test_s, y_test),\n",
    "           batch_size=2048, epochs = 200, callbacks = [early_stopping_monitor])\n",
    "\n",
    "preds1 = models.predict(X_test_s)"
   ]
  },
  {
   "cell_type": "code",
   "execution_count": 126,
   "metadata": {},
   "outputs": [
    {
     "name": "stdout",
     "output_type": "stream",
     "text": [
      "Model: \"sequential_36\"\n",
      "_________________________________________________________________\n",
      "Layer (type)                 Output Shape              Param #   \n",
      "=================================================================\n",
      "dense_127 (Dense)            (None, 20)                240       \n",
      "_________________________________________________________________\n",
      "batch_normalization_11 (Batc (None, 20)                80        \n",
      "_________________________________________________________________\n",
      "dense_128 (Dense)            (None, 40)                840       \n",
      "_________________________________________________________________\n",
      "dense_129 (Dense)            (None, 1)                 41        \n",
      "=================================================================\n",
      "Total params: 1,201\n",
      "Trainable params: 1,161\n",
      "Non-trainable params: 40\n",
      "_________________________________________________________________\n"
     ]
    }
   ],
   "source": [
    "models.summary()"
   ]
  },
  {
   "cell_type": "code",
   "execution_count": 128,
   "metadata": {},
   "outputs": [
    {
     "name": "stdout",
     "output_type": "stream",
     "text": [
      "Confusion_matrix:  tf.Tensor(\n",
      "[[1044    0]\n",
      " [1022    0]], shape=(2, 2), dtype=int32)\n"
     ]
    }
   ],
   "source": [
    "# Evaluating confusion matric\n",
    "rounded_pred = np.argmax(preds1, axis=-1)\n",
    "res_s = tf.math.confusion_matrix(y_test, rounded_pred)\n",
    " \n",
    "# Printing the result\n",
    "print('Confusion_matrix: ',res_s)"
   ]
  },
  {
   "cell_type": "markdown",
   "metadata": {},
   "source": [
    "### MODEL WITH STANDARDIZING & TARGET TO CATEGORICAL"
   ]
  },
  {
   "cell_type": "code",
   "execution_count": 46,
   "metadata": {},
   "outputs": [],
   "source": [
    "y_train_s, y_test_s = to_categorical(y_train), to_categorical(y_test)"
   ]
  },
  {
   "cell_type": "code",
   "execution_count": 47,
   "metadata": {},
   "outputs": [
    {
     "data": {
      "text/plain": [
       "array([[0., 1.],\n",
       "       [0., 1.],\n",
       "       [1., 0.],\n",
       "       ...,\n",
       "       [1., 0.],\n",
       "       [1., 0.],\n",
       "       [1., 0.]], dtype=float32)"
      ]
     },
     "execution_count": 47,
     "metadata": {},
     "output_type": "execute_result"
    }
   ],
   "source": [
    "y_train_s"
   ]
  },
  {
   "cell_type": "code",
   "execution_count": 165,
   "metadata": {},
   "outputs": [
    {
     "name": "stderr",
     "output_type": "stream",
     "text": [
      "/Users/jacquesdeclercq/opt/miniconda3/envs/tensorflow/lib/python3.8/site-packages/keras/optimizer_v2/optimizer_v2.py:355: UserWarning: The `lr` argument is deprecated, use `learning_rate` instead.\n",
      "  warnings.warn(\n"
     ]
    },
    {
     "name": "stdout",
     "output_type": "stream",
     "text": [
      "Epoch 1/200\n",
      "3/3 [==============================] - 1s 69ms/step - loss: 0.2549 - accuracy: 0.5316 - val_loss: 0.2409 - val_accuracy: 0.6180\n",
      "Epoch 2/200\n",
      "3/3 [==============================] - 0s 12ms/step - loss: 0.2279 - accuracy: 0.6533 - val_loss: 0.2211 - val_accuracy: 0.6922\n",
      "Epoch 3/200\n",
      "3/3 [==============================] - 0s 12ms/step - loss: 0.2091 - accuracy: 0.7050 - val_loss: 0.2081 - val_accuracy: 0.7112\n",
      "Epoch 4/200\n",
      "3/3 [==============================] - 0s 15ms/step - loss: 0.1965 - accuracy: 0.7263 - val_loss: 0.1996 - val_accuracy: 0.7205\n",
      "Epoch 5/200\n",
      "3/3 [==============================] - 0s 15ms/step - loss: 0.1878 - accuracy: 0.7384 - val_loss: 0.1941 - val_accuracy: 0.7241\n",
      "Epoch 6/200\n",
      "3/3 [==============================] - 0s 12ms/step - loss: 0.1821 - accuracy: 0.7460 - val_loss: 0.1899 - val_accuracy: 0.7289\n",
      "Epoch 7/200\n",
      "3/3 [==============================] - 0s 13ms/step - loss: 0.1775 - accuracy: 0.7513 - val_loss: 0.1862 - val_accuracy: 0.7358\n",
      "Epoch 8/200\n",
      "3/3 [==============================] - 0s 12ms/step - loss: 0.1734 - accuracy: 0.7579 - val_loss: 0.1827 - val_accuracy: 0.7358\n",
      "Epoch 9/200\n",
      "3/3 [==============================] - 0s 14ms/step - loss: 0.1698 - accuracy: 0.7605 - val_loss: 0.1792 - val_accuracy: 0.7386\n",
      "Epoch 10/200\n",
      "3/3 [==============================] - 0s 21ms/step - loss: 0.1666 - accuracy: 0.7652 - val_loss: 0.1764 - val_accuracy: 0.7390\n",
      "Epoch 11/200\n",
      "3/3 [==============================] - 0s 16ms/step - loss: 0.1642 - accuracy: 0.7678 - val_loss: 0.1742 - val_accuracy: 0.7350\n",
      "Epoch 12/200\n",
      "3/3 [==============================] - 0s 15ms/step - loss: 0.1620 - accuracy: 0.7731 - val_loss: 0.1724 - val_accuracy: 0.7386\n",
      "Epoch 13/200\n",
      "3/3 [==============================] - 0s 15ms/step - loss: 0.1602 - accuracy: 0.7712 - val_loss: 0.1710 - val_accuracy: 0.7430\n",
      "Epoch 14/200\n",
      "3/3 [==============================] - 0s 17ms/step - loss: 0.1586 - accuracy: 0.7742 - val_loss: 0.1699 - val_accuracy: 0.7414\n",
      "Epoch 15/200\n",
      "3/3 [==============================] - 0s 17ms/step - loss: 0.1573 - accuracy: 0.7764 - val_loss: 0.1687 - val_accuracy: 0.7471\n",
      "Epoch 16/200\n",
      "3/3 [==============================] - 0s 15ms/step - loss: 0.1560 - accuracy: 0.7759 - val_loss: 0.1677 - val_accuracy: 0.7455\n",
      "Epoch 17/200\n",
      "3/3 [==============================] - 0s 16ms/step - loss: 0.1548 - accuracy: 0.7768 - val_loss: 0.1668 - val_accuracy: 0.7507\n",
      "Epoch 18/200\n",
      "3/3 [==============================] - 0s 14ms/step - loss: 0.1538 - accuracy: 0.7780 - val_loss: 0.1658 - val_accuracy: 0.7539\n",
      "Epoch 19/200\n",
      "3/3 [==============================] - 0s 14ms/step - loss: 0.1530 - accuracy: 0.7799 - val_loss: 0.1649 - val_accuracy: 0.7491\n",
      "Epoch 20/200\n",
      "3/3 [==============================] - 0s 14ms/step - loss: 0.1522 - accuracy: 0.7790 - val_loss: 0.1642 - val_accuracy: 0.7495\n",
      "Epoch 21/200\n",
      "3/3 [==============================] - 0s 13ms/step - loss: 0.1513 - accuracy: 0.7788 - val_loss: 0.1638 - val_accuracy: 0.7564\n",
      "Epoch 22/200\n",
      "3/3 [==============================] - 0s 13ms/step - loss: 0.1506 - accuracy: 0.7814 - val_loss: 0.1629 - val_accuracy: 0.7555\n",
      "Epoch 23/200\n",
      "3/3 [==============================] - 0s 17ms/step - loss: 0.1498 - accuracy: 0.7835 - val_loss: 0.1621 - val_accuracy: 0.7632\n",
      "Epoch 24/200\n",
      "3/3 [==============================] - 0s 17ms/step - loss: 0.1492 - accuracy: 0.7851 - val_loss: 0.1617 - val_accuracy: 0.7648\n",
      "Epoch 25/200\n",
      "3/3 [==============================] - 0s 15ms/step - loss: 0.1485 - accuracy: 0.7856 - val_loss: 0.1612 - val_accuracy: 0.7632\n",
      "Epoch 26/200\n",
      "3/3 [==============================] - 0s 17ms/step - loss: 0.1478 - accuracy: 0.7875 - val_loss: 0.1608 - val_accuracy: 0.7644\n",
      "Epoch 27/200\n",
      "3/3 [==============================] - 0s 17ms/step - loss: 0.1472 - accuracy: 0.7894 - val_loss: 0.1602 - val_accuracy: 0.7660\n",
      "Epoch 28/200\n",
      "3/3 [==============================] - 0s 15ms/step - loss: 0.1465 - accuracy: 0.7928 - val_loss: 0.1598 - val_accuracy: 0.7681\n",
      "Epoch 29/200\n",
      "3/3 [==============================] - 0s 15ms/step - loss: 0.1459 - accuracy: 0.7942 - val_loss: 0.1593 - val_accuracy: 0.7685\n",
      "Epoch 30/200\n",
      "3/3 [==============================] - 0s 15ms/step - loss: 0.1453 - accuracy: 0.7935 - val_loss: 0.1590 - val_accuracy: 0.7681\n",
      "Epoch 31/200\n",
      "3/3 [==============================] - 0s 12ms/step - loss: 0.1447 - accuracy: 0.7951 - val_loss: 0.1582 - val_accuracy: 0.7717\n",
      "Epoch 32/200\n",
      "3/3 [==============================] - 0s 12ms/step - loss: 0.1440 - accuracy: 0.7961 - val_loss: 0.1578 - val_accuracy: 0.7705\n",
      "Epoch 33/200\n",
      "3/3 [==============================] - 0s 13ms/step - loss: 0.1436 - accuracy: 0.7966 - val_loss: 0.1573 - val_accuracy: 0.7729\n",
      "Epoch 34/200\n",
      "3/3 [==============================] - 0s 11ms/step - loss: 0.1429 - accuracy: 0.7984 - val_loss: 0.1568 - val_accuracy: 0.7721\n",
      "Epoch 35/200\n",
      "3/3 [==============================] - 0s 13ms/step - loss: 0.1424 - accuracy: 0.7999 - val_loss: 0.1566 - val_accuracy: 0.7797\n",
      "Epoch 36/200\n",
      "3/3 [==============================] - 0s 14ms/step - loss: 0.1418 - accuracy: 0.8004 - val_loss: 0.1560 - val_accuracy: 0.7761\n",
      "Epoch 37/200\n",
      "3/3 [==============================] - 0s 11ms/step - loss: 0.1412 - accuracy: 0.7998 - val_loss: 0.1553 - val_accuracy: 0.7741\n",
      "Epoch 38/200\n",
      "3/3 [==============================] - 0s 13ms/step - loss: 0.1407 - accuracy: 0.7989 - val_loss: 0.1549 - val_accuracy: 0.7757\n",
      "Epoch 39/200\n",
      "3/3 [==============================] - 0s 15ms/step - loss: 0.1401 - accuracy: 0.8018 - val_loss: 0.1547 - val_accuracy: 0.7806\n",
      "Epoch 40/200\n",
      "3/3 [==============================] - 0s 18ms/step - loss: 0.1397 - accuracy: 0.8022 - val_loss: 0.1539 - val_accuracy: 0.7822\n",
      "Epoch 41/200\n",
      "3/3 [==============================] - 0s 19ms/step - loss: 0.1390 - accuracy: 0.8008 - val_loss: 0.1535 - val_accuracy: 0.7765\n",
      "Epoch 42/200\n",
      "3/3 [==============================] - 0s 16ms/step - loss: 0.1385 - accuracy: 0.8020 - val_loss: 0.1530 - val_accuracy: 0.7789\n",
      "Epoch 43/200\n",
      "3/3 [==============================] - 0s 15ms/step - loss: 0.1380 - accuracy: 0.8043 - val_loss: 0.1529 - val_accuracy: 0.7785\n",
      "Epoch 44/200\n",
      "3/3 [==============================] - 0s 15ms/step - loss: 0.1374 - accuracy: 0.8055 - val_loss: 0.1522 - val_accuracy: 0.7858\n",
      "Epoch 45/200\n",
      "3/3 [==============================] - 0s 13ms/step - loss: 0.1369 - accuracy: 0.8051 - val_loss: 0.1519 - val_accuracy: 0.7874\n",
      "Epoch 46/200\n",
      "3/3 [==============================] - 0s 14ms/step - loss: 0.1363 - accuracy: 0.8053 - val_loss: 0.1518 - val_accuracy: 0.7781\n",
      "Epoch 47/200\n",
      "3/3 [==============================] - 0s 14ms/step - loss: 0.1359 - accuracy: 0.8058 - val_loss: 0.1511 - val_accuracy: 0.7842\n",
      "Epoch 48/200\n",
      "3/3 [==============================] - 0s 15ms/step - loss: 0.1355 - accuracy: 0.8075 - val_loss: 0.1505 - val_accuracy: 0.7882\n",
      "Epoch 49/200\n",
      "3/3 [==============================] - 0s 12ms/step - loss: 0.1350 - accuracy: 0.8084 - val_loss: 0.1506 - val_accuracy: 0.7874\n",
      "Epoch 50/200\n",
      "3/3 [==============================] - 0s 11ms/step - loss: 0.1344 - accuracy: 0.8110 - val_loss: 0.1499 - val_accuracy: 0.7870\n",
      "Epoch 51/200\n",
      "3/3 [==============================] - 0s 12ms/step - loss: 0.1338 - accuracy: 0.8105 - val_loss: 0.1497 - val_accuracy: 0.7874\n",
      "Epoch 52/200\n",
      "3/3 [==============================] - 0s 11ms/step - loss: 0.1335 - accuracy: 0.8119 - val_loss: 0.1496 - val_accuracy: 0.7866\n",
      "Epoch 53/200\n",
      "3/3 [==============================] - 0s 12ms/step - loss: 0.1329 - accuracy: 0.8131 - val_loss: 0.1490 - val_accuracy: 0.7874\n",
      "Epoch 54/200\n",
      "3/3 [==============================] - 0s 12ms/step - loss: 0.1326 - accuracy: 0.8119 - val_loss: 0.1487 - val_accuracy: 0.7862\n",
      "Epoch 55/200\n",
      "3/3 [==============================] - 0s 11ms/step - loss: 0.1322 - accuracy: 0.8162 - val_loss: 0.1486 - val_accuracy: 0.7870\n",
      "Epoch 56/200\n",
      "3/3 [==============================] - 0s 11ms/step - loss: 0.1317 - accuracy: 0.8158 - val_loss: 0.1481 - val_accuracy: 0.7927\n",
      "Epoch 57/200\n",
      "3/3 [==============================] - 0s 14ms/step - loss: 0.1313 - accuracy: 0.8177 - val_loss: 0.1480 - val_accuracy: 0.7874\n",
      "Epoch 58/200\n",
      "3/3 [==============================] - 0s 14ms/step - loss: 0.1309 - accuracy: 0.8193 - val_loss: 0.1477 - val_accuracy: 0.7882\n",
      "Epoch 59/200\n"
     ]
    },
    {
     "name": "stdout",
     "output_type": "stream",
     "text": [
      "3/3 [==============================] - 0s 12ms/step - loss: 0.1306 - accuracy: 0.8198 - val_loss: 0.1473 - val_accuracy: 0.7914\n",
      "Epoch 60/200\n",
      "3/3 [==============================] - 0s 18ms/step - loss: 0.1301 - accuracy: 0.8212 - val_loss: 0.1475 - val_accuracy: 0.7874\n",
      "Epoch 61/200\n",
      "3/3 [==============================] - 0s 17ms/step - loss: 0.1298 - accuracy: 0.8214 - val_loss: 0.1471 - val_accuracy: 0.7886\n",
      "Epoch 62/200\n",
      "3/3 [==============================] - 0s 16ms/step - loss: 0.1294 - accuracy: 0.8209 - val_loss: 0.1467 - val_accuracy: 0.7927\n",
      "Epoch 63/200\n",
      "3/3 [==============================] - 0s 13ms/step - loss: 0.1290 - accuracy: 0.8214 - val_loss: 0.1468 - val_accuracy: 0.7882\n",
      "Epoch 64/200\n",
      "3/3 [==============================] - 0s 13ms/step - loss: 0.1288 - accuracy: 0.8254 - val_loss: 0.1464 - val_accuracy: 0.7910\n",
      "Epoch 65/200\n",
      "3/3 [==============================] - 0s 12ms/step - loss: 0.1282 - accuracy: 0.8264 - val_loss: 0.1460 - val_accuracy: 0.7943\n",
      "Epoch 66/200\n",
      "3/3 [==============================] - 0s 13ms/step - loss: 0.1280 - accuracy: 0.8264 - val_loss: 0.1457 - val_accuracy: 0.7963\n",
      "Epoch 67/200\n",
      "3/3 [==============================] - 0s 14ms/step - loss: 0.1277 - accuracy: 0.8286 - val_loss: 0.1454 - val_accuracy: 0.7963\n",
      "Epoch 68/200\n",
      "3/3 [==============================] - 0s 23ms/step - loss: 0.1273 - accuracy: 0.8279 - val_loss: 0.1454 - val_accuracy: 0.7914\n",
      "Epoch 69/200\n",
      "3/3 [==============================] - 0s 16ms/step - loss: 0.1269 - accuracy: 0.8290 - val_loss: 0.1450 - val_accuracy: 0.7971\n",
      "Epoch 70/200\n",
      "3/3 [==============================] - 0s 18ms/step - loss: 0.1269 - accuracy: 0.8273 - val_loss: 0.1448 - val_accuracy: 0.7967\n",
      "Epoch 71/200\n",
      "3/3 [==============================] - 0s 21ms/step - loss: 0.1265 - accuracy: 0.8273 - val_loss: 0.1448 - val_accuracy: 0.7943\n",
      "Epoch 72/200\n",
      "3/3 [==============================] - 0s 15ms/step - loss: 0.1262 - accuracy: 0.8293 - val_loss: 0.1444 - val_accuracy: 0.8003\n",
      "Epoch 73/200\n",
      "3/3 [==============================] - 0s 13ms/step - loss: 0.1261 - accuracy: 0.8292 - val_loss: 0.1444 - val_accuracy: 0.7955\n",
      "Epoch 74/200\n",
      "3/3 [==============================] - 0s 12ms/step - loss: 0.1257 - accuracy: 0.8302 - val_loss: 0.1443 - val_accuracy: 0.7951\n",
      "Epoch 75/200\n",
      "3/3 [==============================] - 0s 13ms/step - loss: 0.1254 - accuracy: 0.8292 - val_loss: 0.1439 - val_accuracy: 0.8011\n",
      "Epoch 76/200\n",
      "3/3 [==============================] - 0s 13ms/step - loss: 0.1251 - accuracy: 0.8311 - val_loss: 0.1440 - val_accuracy: 0.7923\n",
      "Epoch 77/200\n",
      "3/3 [==============================] - 0s 13ms/step - loss: 0.1248 - accuracy: 0.8319 - val_loss: 0.1433 - val_accuracy: 0.7991\n",
      "Epoch 78/200\n",
      "3/3 [==============================] - 0s 12ms/step - loss: 0.1244 - accuracy: 0.8290 - val_loss: 0.1433 - val_accuracy: 0.8019\n",
      "Epoch 79/200\n",
      "3/3 [==============================] - 0s 12ms/step - loss: 0.1241 - accuracy: 0.8307 - val_loss: 0.1434 - val_accuracy: 0.7995\n",
      "Epoch 80/200\n",
      "3/3 [==============================] - 0s 14ms/step - loss: 0.1243 - accuracy: 0.8357 - val_loss: 0.1432 - val_accuracy: 0.7987\n",
      "Epoch 81/200\n",
      "3/3 [==============================] - 0s 14ms/step - loss: 0.1238 - accuracy: 0.8345 - val_loss: 0.1432 - val_accuracy: 0.7975\n",
      "Epoch 82/200\n",
      "3/3 [==============================] - 0s 25ms/step - loss: 0.1235 - accuracy: 0.8326 - val_loss: 0.1431 - val_accuracy: 0.7971\n",
      "Epoch 83/200\n",
      "3/3 [==============================] - 0s 16ms/step - loss: 0.1233 - accuracy: 0.8349 - val_loss: 0.1425 - val_accuracy: 0.7967\n",
      "Epoch 84/200\n",
      "3/3 [==============================] - 0s 14ms/step - loss: 0.1230 - accuracy: 0.8321 - val_loss: 0.1423 - val_accuracy: 0.8031\n",
      "Epoch 85/200\n",
      "3/3 [==============================] - 0s 12ms/step - loss: 0.1226 - accuracy: 0.8326 - val_loss: 0.1423 - val_accuracy: 0.7975\n",
      "Epoch 86/200\n",
      "3/3 [==============================] - 0s 13ms/step - loss: 0.1225 - accuracy: 0.8357 - val_loss: 0.1423 - val_accuracy: 0.7971\n",
      "Epoch 87/200\n",
      "3/3 [==============================] - 0s 12ms/step - loss: 0.1221 - accuracy: 0.8331 - val_loss: 0.1420 - val_accuracy: 0.8035\n",
      "Epoch 88/200\n",
      "3/3 [==============================] - 0s 13ms/step - loss: 0.1220 - accuracy: 0.8347 - val_loss: 0.1420 - val_accuracy: 0.7983\n",
      "Epoch 89/200\n",
      "3/3 [==============================] - 0s 12ms/step - loss: 0.1222 - accuracy: 0.8359 - val_loss: 0.1417 - val_accuracy: 0.7975\n",
      "Epoch 90/200\n",
      "3/3 [==============================] - 0s 14ms/step - loss: 0.1222 - accuracy: 0.8350 - val_loss: 0.1415 - val_accuracy: 0.7991\n",
      "Epoch 91/200\n",
      "3/3 [==============================] - 0s 12ms/step - loss: 0.1213 - accuracy: 0.8366 - val_loss: 0.1416 - val_accuracy: 0.7991\n",
      "Epoch 92/200\n",
      "3/3 [==============================] - 0s 13ms/step - loss: 0.1211 - accuracy: 0.8368 - val_loss: 0.1411 - val_accuracy: 0.8015\n",
      "Epoch 93/200\n",
      "3/3 [==============================] - 0s 12ms/step - loss: 0.1210 - accuracy: 0.8361 - val_loss: 0.1411 - val_accuracy: 0.8040\n",
      "Epoch 94/200\n",
      "3/3 [==============================] - 0s 12ms/step - loss: 0.1206 - accuracy: 0.8364 - val_loss: 0.1411 - val_accuracy: 0.7999\n",
      "Epoch 95/200\n",
      "3/3 [==============================] - 0s 13ms/step - loss: 0.1205 - accuracy: 0.8361 - val_loss: 0.1404 - val_accuracy: 0.8035\n",
      "Epoch 96/200\n",
      "3/3 [==============================] - 0s 14ms/step - loss: 0.1202 - accuracy: 0.8361 - val_loss: 0.1405 - val_accuracy: 0.8044\n",
      "Epoch 97/200\n",
      "3/3 [==============================] - 0s 22ms/step - loss: 0.1200 - accuracy: 0.8380 - val_loss: 0.1403 - val_accuracy: 0.8011\n",
      "Epoch 98/200\n",
      "3/3 [==============================] - 0s 16ms/step - loss: 0.1196 - accuracy: 0.8390 - val_loss: 0.1402 - val_accuracy: 0.8092\n",
      "Epoch 99/200\n",
      "3/3 [==============================] - 0s 13ms/step - loss: 0.1195 - accuracy: 0.8387 - val_loss: 0.1400 - val_accuracy: 0.8040\n",
      "Epoch 100/200\n",
      "3/3 [==============================] - 0s 12ms/step - loss: 0.1192 - accuracy: 0.8394 - val_loss: 0.1398 - val_accuracy: 0.8048\n",
      "Epoch 101/200\n",
      "3/3 [==============================] - 0s 12ms/step - loss: 0.1189 - accuracy: 0.8394 - val_loss: 0.1399 - val_accuracy: 0.8064\n",
      "Epoch 102/200\n",
      "3/3 [==============================] - 0s 12ms/step - loss: 0.1186 - accuracy: 0.8399 - val_loss: 0.1396 - val_accuracy: 0.8064\n",
      "Epoch 103/200\n",
      "3/3 [==============================] - 0s 11ms/step - loss: 0.1183 - accuracy: 0.8413 - val_loss: 0.1396 - val_accuracy: 0.8068\n",
      "Epoch 104/200\n",
      "3/3 [==============================] - 0s 12ms/step - loss: 0.1183 - accuracy: 0.8433 - val_loss: 0.1394 - val_accuracy: 0.8080\n",
      "Epoch 105/200\n",
      "3/3 [==============================] - 0s 11ms/step - loss: 0.1180 - accuracy: 0.8409 - val_loss: 0.1394 - val_accuracy: 0.8092\n",
      "Epoch 106/200\n",
      "3/3 [==============================] - 0s 14ms/step - loss: 0.1177 - accuracy: 0.8432 - val_loss: 0.1393 - val_accuracy: 0.8044\n",
      "Epoch 107/200\n",
      "3/3 [==============================] - 0s 15ms/step - loss: 0.1175 - accuracy: 0.8437 - val_loss: 0.1389 - val_accuracy: 0.8096\n",
      "Epoch 108/200\n",
      "3/3 [==============================] - 0s 15ms/step - loss: 0.1172 - accuracy: 0.8423 - val_loss: 0.1386 - val_accuracy: 0.8096\n",
      "Epoch 109/200\n",
      "3/3 [==============================] - 0s 15ms/step - loss: 0.1169 - accuracy: 0.8430 - val_loss: 0.1387 - val_accuracy: 0.8096\n",
      "Epoch 110/200\n",
      "3/3 [==============================] - 0s 20ms/step - loss: 0.1167 - accuracy: 0.8447 - val_loss: 0.1385 - val_accuracy: 0.8100\n",
      "Epoch 111/200\n",
      "3/3 [==============================] - 0s 14ms/step - loss: 0.1167 - accuracy: 0.8432 - val_loss: 0.1385 - val_accuracy: 0.8064\n",
      "Epoch 112/200\n",
      "3/3 [==============================] - 0s 16ms/step - loss: 0.1163 - accuracy: 0.8454 - val_loss: 0.1384 - val_accuracy: 0.8084\n",
      "Epoch 113/200\n",
      "3/3 [==============================] - 0s 23ms/step - loss: 0.1160 - accuracy: 0.8477 - val_loss: 0.1383 - val_accuracy: 0.8116\n",
      "Epoch 114/200\n",
      "3/3 [==============================] - 0s 17ms/step - loss: 0.1158 - accuracy: 0.8487 - val_loss: 0.1379 - val_accuracy: 0.8096\n",
      "Epoch 115/200\n",
      "3/3 [==============================] - 0s 14ms/step - loss: 0.1156 - accuracy: 0.8475 - val_loss: 0.1377 - val_accuracy: 0.8100\n",
      "Epoch 116/200\n",
      "3/3 [==============================] - 0s 15ms/step - loss: 0.1153 - accuracy: 0.8499 - val_loss: 0.1377 - val_accuracy: 0.8108\n",
      "Epoch 117/200\n"
     ]
    },
    {
     "name": "stdout",
     "output_type": "stream",
     "text": [
      "3/3 [==============================] - 0s 16ms/step - loss: 0.1151 - accuracy: 0.8497 - val_loss: 0.1375 - val_accuracy: 0.8076\n",
      "Epoch 118/200\n",
      "3/3 [==============================] - 0s 16ms/step - loss: 0.1148 - accuracy: 0.8485 - val_loss: 0.1373 - val_accuracy: 0.8120\n",
      "Epoch 119/200\n",
      "3/3 [==============================] - 0s 14ms/step - loss: 0.1147 - accuracy: 0.8503 - val_loss: 0.1374 - val_accuracy: 0.8144\n",
      "Epoch 120/200\n",
      "3/3 [==============================] - 0s 15ms/step - loss: 0.1144 - accuracy: 0.8508 - val_loss: 0.1373 - val_accuracy: 0.8116\n",
      "Epoch 121/200\n",
      "3/3 [==============================] - 0s 18ms/step - loss: 0.1144 - accuracy: 0.8485 - val_loss: 0.1372 - val_accuracy: 0.8100\n",
      "Epoch 122/200\n",
      "3/3 [==============================] - 0s 31ms/step - loss: 0.1141 - accuracy: 0.8506 - val_loss: 0.1374 - val_accuracy: 0.8124\n",
      "Epoch 123/200\n",
      "3/3 [==============================] - 0s 81ms/step - loss: 0.1141 - accuracy: 0.8520 - val_loss: 0.1371 - val_accuracy: 0.8116\n",
      "Epoch 124/200\n",
      "3/3 [==============================] - 0s 22ms/step - loss: 0.1139 - accuracy: 0.8506 - val_loss: 0.1370 - val_accuracy: 0.8132\n",
      "Epoch 125/200\n",
      "3/3 [==============================] - 0s 14ms/step - loss: 0.1136 - accuracy: 0.8518 - val_loss: 0.1366 - val_accuracy: 0.8128\n",
      "Epoch 126/200\n",
      "3/3 [==============================] - 0s 12ms/step - loss: 0.1133 - accuracy: 0.8520 - val_loss: 0.1364 - val_accuracy: 0.8124\n",
      "Epoch 127/200\n",
      "3/3 [==============================] - 0s 16ms/step - loss: 0.1128 - accuracy: 0.8549 - val_loss: 0.1364 - val_accuracy: 0.8152\n",
      "Epoch 128/200\n",
      "3/3 [==============================] - 0s 17ms/step - loss: 0.1128 - accuracy: 0.8560 - val_loss: 0.1363 - val_accuracy: 0.8132\n",
      "Epoch 129/200\n",
      "3/3 [==============================] - 0s 17ms/step - loss: 0.1127 - accuracy: 0.8527 - val_loss: 0.1362 - val_accuracy: 0.8148\n",
      "Epoch 130/200\n",
      "3/3 [==============================] - 0s 26ms/step - loss: 0.1122 - accuracy: 0.8525 - val_loss: 0.1360 - val_accuracy: 0.8128\n",
      "Epoch 131/200\n",
      "3/3 [==============================] - 0s 21ms/step - loss: 0.1120 - accuracy: 0.8556 - val_loss: 0.1358 - val_accuracy: 0.8152\n",
      "Epoch 132/200\n",
      "3/3 [==============================] - 0s 19ms/step - loss: 0.1120 - accuracy: 0.8565 - val_loss: 0.1357 - val_accuracy: 0.8144\n",
      "Epoch 133/200\n",
      "3/3 [==============================] - 0s 16ms/step - loss: 0.1118 - accuracy: 0.8539 - val_loss: 0.1356 - val_accuracy: 0.8165\n",
      "Epoch 134/200\n",
      "3/3 [==============================] - 0s 14ms/step - loss: 0.1114 - accuracy: 0.8560 - val_loss: 0.1358 - val_accuracy: 0.8144\n",
      "Epoch 135/200\n",
      "3/3 [==============================] - 0s 12ms/step - loss: 0.1112 - accuracy: 0.8563 - val_loss: 0.1353 - val_accuracy: 0.8165\n",
      "Epoch 136/200\n",
      "3/3 [==============================] - 0s 13ms/step - loss: 0.1110 - accuracy: 0.8577 - val_loss: 0.1353 - val_accuracy: 0.8185\n",
      "Epoch 137/200\n",
      "3/3 [==============================] - 0s 11ms/step - loss: 0.1106 - accuracy: 0.8584 - val_loss: 0.1352 - val_accuracy: 0.8173\n",
      "Epoch 138/200\n",
      "3/3 [==============================] - 0s 12ms/step - loss: 0.1106 - accuracy: 0.8565 - val_loss: 0.1352 - val_accuracy: 0.8144\n",
      "Epoch 139/200\n",
      "3/3 [==============================] - 0s 14ms/step - loss: 0.1104 - accuracy: 0.8589 - val_loss: 0.1349 - val_accuracy: 0.8181\n",
      "Epoch 140/200\n",
      "3/3 [==============================] - 0s 14ms/step - loss: 0.1101 - accuracy: 0.8568 - val_loss: 0.1348 - val_accuracy: 0.8193\n",
      "Epoch 141/200\n",
      "3/3 [==============================] - 0s 33ms/step - loss: 0.1099 - accuracy: 0.8579 - val_loss: 0.1348 - val_accuracy: 0.8173\n",
      "Epoch 142/200\n",
      "3/3 [==============================] - 0s 22ms/step - loss: 0.1095 - accuracy: 0.8568 - val_loss: 0.1345 - val_accuracy: 0.8181\n",
      "Epoch 143/200\n",
      "3/3 [==============================] - 0s 17ms/step - loss: 0.1094 - accuracy: 0.8584 - val_loss: 0.1342 - val_accuracy: 0.8193\n",
      "Epoch 144/200\n",
      "3/3 [==============================] - 0s 15ms/step - loss: 0.1095 - accuracy: 0.8580 - val_loss: 0.1342 - val_accuracy: 0.8201\n",
      "Epoch 145/200\n",
      "3/3 [==============================] - 0s 15ms/step - loss: 0.1092 - accuracy: 0.8598 - val_loss: 0.1342 - val_accuracy: 0.8205\n",
      "Epoch 146/200\n",
      "3/3 [==============================] - 0s 12ms/step - loss: 0.1088 - accuracy: 0.8606 - val_loss: 0.1343 - val_accuracy: 0.8161\n",
      "Epoch 147/200\n",
      "3/3 [==============================] - 0s 12ms/step - loss: 0.1085 - accuracy: 0.8594 - val_loss: 0.1338 - val_accuracy: 0.8185\n",
      "Epoch 148/200\n",
      "3/3 [==============================] - 0s 21ms/step - loss: 0.1083 - accuracy: 0.8594 - val_loss: 0.1338 - val_accuracy: 0.8201\n",
      "Epoch 149/200\n",
      "3/3 [==============================] - 0s 16ms/step - loss: 0.1080 - accuracy: 0.8599 - val_loss: 0.1340 - val_accuracy: 0.8237\n",
      "Epoch 150/200\n",
      "3/3 [==============================] - 0s 13ms/step - loss: 0.1079 - accuracy: 0.8613 - val_loss: 0.1335 - val_accuracy: 0.8193\n",
      "Epoch 151/200\n",
      "3/3 [==============================] - 0s 11ms/step - loss: 0.1081 - accuracy: 0.8591 - val_loss: 0.1337 - val_accuracy: 0.8197\n",
      "Epoch 152/200\n",
      "3/3 [==============================] - 0s 13ms/step - loss: 0.1078 - accuracy: 0.8598 - val_loss: 0.1336 - val_accuracy: 0.8189\n",
      "Epoch 153/200\n",
      "3/3 [==============================] - 0s 12ms/step - loss: 0.1074 - accuracy: 0.8589 - val_loss: 0.1332 - val_accuracy: 0.8217\n",
      "Epoch 154/200\n",
      "3/3 [==============================] - 0s 15ms/step - loss: 0.1072 - accuracy: 0.8613 - val_loss: 0.1337 - val_accuracy: 0.8181\n",
      "Epoch 155/200\n",
      "3/3 [==============================] - 0s 16ms/step - loss: 0.1071 - accuracy: 0.8610 - val_loss: 0.1333 - val_accuracy: 0.8225\n",
      "Epoch 156/200\n",
      "3/3 [==============================] - 0s 15ms/step - loss: 0.1065 - accuracy: 0.8624 - val_loss: 0.1333 - val_accuracy: 0.8197\n"
     ]
    }
   ],
   "source": [
    "\n",
    "# Import EarlyStopping\n",
    "from keras.callbacks import EarlyStopping\n",
    "\n",
    "# Specify the model\n",
    "models1 = Sequential()\n",
    "\n",
    "models1.add(Dense(20, activation='relu', input_shape = (11,)))\n",
    "models1.add(Dense(40, activation='relu'))\n",
    "models1.add(Dense(2, activation='softmax'))\n",
    "\n",
    "adam = Adam(lr=0.003)\n",
    "# Compile the model\n",
    "models1.compile(optimizer = adam, loss = 'mean_squared_error',\n",
    "metrics=['accuracy'])\n",
    "\n",
    "# Define early_stopping_monitor\n",
    "early_stopping_monitor = EarlyStopping(patience = 3)\n",
    "\n",
    "# Fit the model\n",
    "models1_history = models1.fit(X_train_s, y_train_s,validation_split = 0.3,validation_data=(X_test_s, y_test_s),\n",
    "           batch_size=2048, epochs = 200, callbacks = [early_stopping_monitor])\n",
    "\n",
    "preds2 = models1.predict(X_test_s)"
   ]
  },
  {
   "cell_type": "code",
   "execution_count": 135,
   "metadata": {},
   "outputs": [
    {
     "name": "stdout",
     "output_type": "stream",
     "text": [
      "Model: \"sequential_36\"\n",
      "_________________________________________________________________\n",
      "Layer (type)                 Output Shape              Param #   \n",
      "=================================================================\n",
      "dense_127 (Dense)            (None, 20)                240       \n",
      "_________________________________________________________________\n",
      "batch_normalization_11 (Batc (None, 20)                80        \n",
      "_________________________________________________________________\n",
      "dense_128 (Dense)            (None, 40)                840       \n",
      "_________________________________________________________________\n",
      "dense_129 (Dense)            (None, 1)                 41        \n",
      "=================================================================\n",
      "Total params: 1,201\n",
      "Trainable params: 1,161\n",
      "Non-trainable params: 40\n",
      "_________________________________________________________________\n"
     ]
    }
   ],
   "source": [
    "models.summary()"
   ]
  },
  {
   "cell_type": "code",
   "execution_count": 166,
   "metadata": {},
   "outputs": [
    {
     "name": "stdout",
     "output_type": "stream",
     "text": [
      "Confusion_matrix:  tf.Tensor(\n",
      "[[455 589]\n",
      " [443 579]], shape=(2, 2), dtype=int32)\n"
     ]
    }
   ],
   "source": [
    "# Evaluating confusion matric\n",
    "rounded_pred = np.argmax(preds2, axis=-1)\n",
    "res_s = tf.math.confusion_matrix(y_test, rounded_pred)\n",
    " \n",
    "# Printing the result\n",
    "print('Confusion_matrix: ',res_s)"
   ]
  },
  {
   "cell_type": "code",
   "execution_count": 167,
   "metadata": {
    "scrolled": true
   },
   "outputs": [
    {
     "data": {
      "image/png": "[encoded data removed]",
      "text/plain": [
       "<Figure size 432x288 with 2 Axes>"
      ]
     },
     "metadata": {},
     "output_type": "display_data"
    }
   ],
   "source": [
    "savefig_location = \"models_conf.png\"\n",
    "sns.heatmap(res_s/np.sum(res_s), annot=True, \n",
    "            fmt='.2%',linewidths=.5, cmap='Reds')\n",
    "plt.savefig(savefig_location, bbox_inches=\"tight\", dpi=880)"
   ]
  },
  {
   "cell_type": "markdown",
   "metadata": {},
   "source": [
    "### MODEL WITH STANDARDIZING & TARGET TO CATEGORICAL & BATCHNORMALIZATION"
   ]
  },
  {
   "cell_type": "code",
   "execution_count": 75,
   "metadata": {},
   "outputs": [
    {
     "name": "stdout",
     "output_type": "stream",
     "text": [
      "Epoch 1/200\n",
      "3/3 [==============================] - 1s 82ms/step - loss: 0.2806 - accuracy: 0.4866 - val_loss: 0.2583 - val_accuracy: 0.5103\n",
      "Epoch 2/200\n",
      "3/3 [==============================] - 0s 14ms/step - loss: 0.2289 - accuracy: 0.6261 - val_loss: 0.2358 - val_accuracy: 0.5889\n",
      "Epoch 3/200\n",
      "3/3 [==============================] - 0s 14ms/step - loss: 0.2037 - accuracy: 0.6924 - val_loss: 0.2212 - val_accuracy: 0.6507\n",
      "Epoch 4/200\n",
      "3/3 [==============================] - 0s 12ms/step - loss: 0.1922 - accuracy: 0.7216 - val_loss: 0.2117 - val_accuracy: 0.6890\n",
      "Epoch 5/200\n",
      "3/3 [==============================] - 0s 15ms/step - loss: 0.1851 - accuracy: 0.7353 - val_loss: 0.2055 - val_accuracy: 0.7043\n",
      "Epoch 6/200\n",
      "3/3 [==============================] - 0s 11ms/step - loss: 0.1794 - accuracy: 0.7399 - val_loss: 0.2013 - val_accuracy: 0.7100\n",
      "Epoch 7/200\n",
      "3/3 [==============================] - 0s 12ms/step - loss: 0.1743 - accuracy: 0.7562 - val_loss: 0.1981 - val_accuracy: 0.7225\n",
      "Epoch 8/200\n",
      "3/3 [==============================] - 0s 13ms/step - loss: 0.1702 - accuracy: 0.7583 - val_loss: 0.1957 - val_accuracy: 0.7261\n",
      "Epoch 9/200\n",
      "3/3 [==============================] - 0s 11ms/step - loss: 0.1666 - accuracy: 0.7693 - val_loss: 0.1934 - val_accuracy: 0.7309\n",
      "Epoch 10/200\n",
      "3/3 [==============================] - 0s 12ms/step - loss: 0.1635 - accuracy: 0.7762 - val_loss: 0.1912 - val_accuracy: 0.7326\n",
      "Epoch 11/200\n",
      "3/3 [==============================] - 0s 13ms/step - loss: 0.1609 - accuracy: 0.7761 - val_loss: 0.1891 - val_accuracy: 0.7338\n",
      "Epoch 12/200\n",
      "3/3 [==============================] - 0s 13ms/step - loss: 0.1587 - accuracy: 0.7749 - val_loss: 0.1874 - val_accuracy: 0.7305\n",
      "Epoch 13/200\n",
      "3/3 [==============================] - 0s 13ms/step - loss: 0.1570 - accuracy: 0.7775 - val_loss: 0.1858 - val_accuracy: 0.7362\n",
      "Epoch 14/200\n",
      "3/3 [==============================] - 0s 11ms/step - loss: 0.1550 - accuracy: 0.7814 - val_loss: 0.1843 - val_accuracy: 0.7374\n",
      "Epoch 15/200\n",
      "3/3 [==============================] - 0s 13ms/step - loss: 0.1540 - accuracy: 0.7842 - val_loss: 0.1830 - val_accuracy: 0.7418\n",
      "Epoch 16/200\n",
      "3/3 [==============================] - 0s 12ms/step - loss: 0.1523 - accuracy: 0.7840 - val_loss: 0.1817 - val_accuracy: 0.7402\n",
      "Epoch 17/200\n",
      "3/3 [==============================] - 0s 16ms/step - loss: 0.1509 - accuracy: 0.7863 - val_loss: 0.1807 - val_accuracy: 0.7418\n",
      "Epoch 18/200\n",
      "3/3 [==============================] - 0s 13ms/step - loss: 0.1496 - accuracy: 0.7889 - val_loss: 0.1797 - val_accuracy: 0.7451\n",
      "Epoch 19/200\n",
      "3/3 [==============================] - 0s 11ms/step - loss: 0.1485 - accuracy: 0.7887 - val_loss: 0.1789 - val_accuracy: 0.7455\n",
      "Epoch 20/200\n",
      "3/3 [==============================] - 0s 12ms/step - loss: 0.1472 - accuracy: 0.7927 - val_loss: 0.1778 - val_accuracy: 0.7495\n",
      "Epoch 21/200\n",
      "3/3 [==============================] - 0s 13ms/step - loss: 0.1463 - accuracy: 0.7942 - val_loss: 0.1768 - val_accuracy: 0.7535\n",
      "Epoch 22/200\n",
      "3/3 [==============================] - 0s 12ms/step - loss: 0.1454 - accuracy: 0.7930 - val_loss: 0.1760 - val_accuracy: 0.7551\n",
      "Epoch 23/200\n",
      "3/3 [==============================] - 0s 13ms/step - loss: 0.1444 - accuracy: 0.7958 - val_loss: 0.1752 - val_accuracy: 0.7596\n",
      "Epoch 24/200\n",
      "3/3 [==============================] - 0s 12ms/step - loss: 0.1436 - accuracy: 0.7996 - val_loss: 0.1744 - val_accuracy: 0.7672\n",
      "Epoch 25/200\n",
      "3/3 [==============================] - 0s 14ms/step - loss: 0.1427 - accuracy: 0.8030 - val_loss: 0.1737 - val_accuracy: 0.7705\n",
      "Epoch 26/200\n",
      "3/3 [==============================] - 0s 13ms/step - loss: 0.1418 - accuracy: 0.8043 - val_loss: 0.1727 - val_accuracy: 0.7729\n",
      "Epoch 27/200\n",
      "3/3 [==============================] - 0s 12ms/step - loss: 0.1410 - accuracy: 0.8034 - val_loss: 0.1719 - val_accuracy: 0.7713\n",
      "Epoch 28/200\n",
      "3/3 [==============================] - 0s 13ms/step - loss: 0.1402 - accuracy: 0.8058 - val_loss: 0.1708 - val_accuracy: 0.7721\n",
      "Epoch 29/200\n",
      "3/3 [==============================] - 0s 12ms/step - loss: 0.1393 - accuracy: 0.8119 - val_loss: 0.1697 - val_accuracy: 0.7717\n",
      "Epoch 30/200\n",
      "3/3 [==============================] - 0s 14ms/step - loss: 0.1386 - accuracy: 0.8077 - val_loss: 0.1688 - val_accuracy: 0.7725\n",
      "Epoch 31/200\n",
      "3/3 [==============================] - 0s 13ms/step - loss: 0.1378 - accuracy: 0.8112 - val_loss: 0.1680 - val_accuracy: 0.7749\n",
      "Epoch 32/200\n",
      "3/3 [==============================] - 0s 11ms/step - loss: 0.1372 - accuracy: 0.8113 - val_loss: 0.1673 - val_accuracy: 0.7781\n",
      "Epoch 33/200\n",
      "3/3 [==============================] - 0s 13ms/step - loss: 0.1365 - accuracy: 0.8115 - val_loss: 0.1666 - val_accuracy: 0.7806\n",
      "Epoch 34/200\n",
      "3/3 [==============================] - 0s 11ms/step - loss: 0.1359 - accuracy: 0.8141 - val_loss: 0.1655 - val_accuracy: 0.7781\n",
      "Epoch 35/200\n",
      "3/3 [==============================] - 0s 12ms/step - loss: 0.1351 - accuracy: 0.8160 - val_loss: 0.1644 - val_accuracy: 0.7822\n",
      "Epoch 36/200\n",
      "3/3 [==============================] - 0s 13ms/step - loss: 0.1347 - accuracy: 0.8151 - val_loss: 0.1638 - val_accuracy: 0.7834\n",
      "Epoch 37/200\n",
      "3/3 [==============================] - 0s 11ms/step - loss: 0.1338 - accuracy: 0.8198 - val_loss: 0.1633 - val_accuracy: 0.7834\n",
      "Epoch 38/200\n",
      "3/3 [==============================] - 0s 13ms/step - loss: 0.1331 - accuracy: 0.8215 - val_loss: 0.1627 - val_accuracy: 0.7802\n",
      "Epoch 39/200\n",
      "3/3 [==============================] - 0s 11ms/step - loss: 0.1327 - accuracy: 0.8210 - val_loss: 0.1618 - val_accuracy: 0.7834\n",
      "Epoch 40/200\n",
      "3/3 [==============================] - 0s 11ms/step - loss: 0.1323 - accuracy: 0.8203 - val_loss: 0.1611 - val_accuracy: 0.7858\n",
      "Epoch 41/200\n",
      "3/3 [==============================] - 0s 13ms/step - loss: 0.1321 - accuracy: 0.8202 - val_loss: 0.1606 - val_accuracy: 0.7854\n",
      "Epoch 42/200\n",
      "3/3 [==============================] - 0s 12ms/step - loss: 0.1312 - accuracy: 0.8243 - val_loss: 0.1601 - val_accuracy: 0.7834\n",
      "Epoch 43/200\n",
      "3/3 [==============================] - 0s 12ms/step - loss: 0.1306 - accuracy: 0.8236 - val_loss: 0.1595 - val_accuracy: 0.7822\n",
      "Epoch 44/200\n",
      "3/3 [==============================] - 0s 12ms/step - loss: 0.1301 - accuracy: 0.8215 - val_loss: 0.1588 - val_accuracy: 0.7806\n",
      "Epoch 45/200\n",
      "3/3 [==============================] - 0s 12ms/step - loss: 0.1294 - accuracy: 0.8248 - val_loss: 0.1581 - val_accuracy: 0.7830\n",
      "Epoch 46/200\n",
      "3/3 [==============================] - 0s 12ms/step - loss: 0.1291 - accuracy: 0.8245 - val_loss: 0.1574 - val_accuracy: 0.7846\n",
      "Epoch 47/200\n",
      "3/3 [==============================] - 0s 11ms/step - loss: 0.1284 - accuracy: 0.8274 - val_loss: 0.1568 - val_accuracy: 0.7822\n",
      "Epoch 48/200\n",
      "3/3 [==============================] - 0s 12ms/step - loss: 0.1281 - accuracy: 0.8293 - val_loss: 0.1563 - val_accuracy: 0.7806\n",
      "Epoch 49/200\n",
      "3/3 [==============================] - 0s 12ms/step - loss: 0.1274 - accuracy: 0.8297 - val_loss: 0.1555 - val_accuracy: 0.7818\n",
      "Epoch 50/200\n",
      "3/3 [==============================] - 0s 12ms/step - loss: 0.1269 - accuracy: 0.8285 - val_loss: 0.1550 - val_accuracy: 0.7862\n",
      "Epoch 51/200\n",
      "3/3 [==============================] - 0s 12ms/step - loss: 0.1265 - accuracy: 0.8305 - val_loss: 0.1546 - val_accuracy: 0.7850\n",
      "Epoch 52/200\n",
      "3/3 [==============================] - 0s 12ms/step - loss: 0.1260 - accuracy: 0.8321 - val_loss: 0.1542 - val_accuracy: 0.7862\n",
      "Epoch 53/200\n",
      "3/3 [==============================] - 0s 13ms/step - loss: 0.1257 - accuracy: 0.8300 - val_loss: 0.1537 - val_accuracy: 0.7862\n",
      "Epoch 54/200\n",
      "3/3 [==============================] - 0s 12ms/step - loss: 0.1250 - accuracy: 0.8328 - val_loss: 0.1531 - val_accuracy: 0.7866\n",
      "Epoch 55/200\n",
      "3/3 [==============================] - 0s 13ms/step - loss: 0.1247 - accuracy: 0.8342 - val_loss: 0.1530 - val_accuracy: 0.7878\n",
      "Epoch 56/200\n",
      "3/3 [==============================] - 0s 14ms/step - loss: 0.1241 - accuracy: 0.8349 - val_loss: 0.1525 - val_accuracy: 0.7898\n",
      "Epoch 57/200\n",
      "3/3 [==============================] - 0s 23ms/step - loss: 0.1238 - accuracy: 0.8343 - val_loss: 0.1518 - val_accuracy: 0.7910\n",
      "Epoch 58/200\n",
      "3/3 [==============================] - 0s 15ms/step - loss: 0.1233 - accuracy: 0.8349 - val_loss: 0.1514 - val_accuracy: 0.7923\n",
      "Epoch 59/200\n"
     ]
    },
    {
     "name": "stdout",
     "output_type": "stream",
     "text": [
      "3/3 [==============================] - 0s 16ms/step - loss: 0.1229 - accuracy: 0.8371 - val_loss: 0.1515 - val_accuracy: 0.7866\n",
      "Epoch 60/200\n",
      "3/3 [==============================] - 0s 15ms/step - loss: 0.1226 - accuracy: 0.8392 - val_loss: 0.1510 - val_accuracy: 0.7898\n",
      "Epoch 61/200\n",
      "3/3 [==============================] - 0s 14ms/step - loss: 0.1218 - accuracy: 0.8378 - val_loss: 0.1507 - val_accuracy: 0.7910\n",
      "Epoch 62/200\n",
      "3/3 [==============================] - 0s 14ms/step - loss: 0.1214 - accuracy: 0.8385 - val_loss: 0.1503 - val_accuracy: 0.7951\n",
      "Epoch 63/200\n",
      "3/3 [==============================] - 0s 12ms/step - loss: 0.1208 - accuracy: 0.8423 - val_loss: 0.1500 - val_accuracy: 0.7902\n",
      "Epoch 64/200\n",
      "3/3 [==============================] - 0s 12ms/step - loss: 0.1204 - accuracy: 0.8404 - val_loss: 0.1494 - val_accuracy: 0.7927\n",
      "Epoch 65/200\n",
      "3/3 [==============================] - 0s 12ms/step - loss: 0.1201 - accuracy: 0.8454 - val_loss: 0.1490 - val_accuracy: 0.7931\n",
      "Epoch 66/200\n",
      "3/3 [==============================] - 0s 11ms/step - loss: 0.1200 - accuracy: 0.8449 - val_loss: 0.1489 - val_accuracy: 0.7943\n",
      "Epoch 67/200\n",
      "3/3 [==============================] - 0s 12ms/step - loss: 0.1192 - accuracy: 0.8456 - val_loss: 0.1484 - val_accuracy: 0.7991\n",
      "Epoch 68/200\n",
      "3/3 [==============================] - 0s 12ms/step - loss: 0.1195 - accuracy: 0.8454 - val_loss: 0.1483 - val_accuracy: 0.7959\n",
      "Epoch 69/200\n",
      "3/3 [==============================] - 0s 12ms/step - loss: 0.1188 - accuracy: 0.8451 - val_loss: 0.1481 - val_accuracy: 0.7959\n",
      "Epoch 70/200\n",
      "3/3 [==============================] - 0s 12ms/step - loss: 0.1180 - accuracy: 0.8456 - val_loss: 0.1474 - val_accuracy: 0.8019\n",
      "Epoch 71/200\n",
      "3/3 [==============================] - 0s 13ms/step - loss: 0.1178 - accuracy: 0.8483 - val_loss: 0.1476 - val_accuracy: 0.7991\n",
      "Epoch 72/200\n",
      "3/3 [==============================] - 0s 13ms/step - loss: 0.1174 - accuracy: 0.8489 - val_loss: 0.1473 - val_accuracy: 0.7983\n",
      "Epoch 73/200\n",
      "3/3 [==============================] - 0s 15ms/step - loss: 0.1171 - accuracy: 0.8483 - val_loss: 0.1470 - val_accuracy: 0.8023\n",
      "Epoch 74/200\n",
      "3/3 [==============================] - 0s 15ms/step - loss: 0.1166 - accuracy: 0.8501 - val_loss: 0.1467 - val_accuracy: 0.8027\n",
      "Epoch 75/200\n",
      "3/3 [==============================] - 0s 17ms/step - loss: 0.1168 - accuracy: 0.8480 - val_loss: 0.1468 - val_accuracy: 0.7995\n",
      "Epoch 76/200\n",
      "3/3 [==============================] - 0s 15ms/step - loss: 0.1164 - accuracy: 0.8499 - val_loss: 0.1466 - val_accuracy: 0.8019\n",
      "Epoch 77/200\n",
      "3/3 [==============================] - 0s 13ms/step - loss: 0.1157 - accuracy: 0.8492 - val_loss: 0.1463 - val_accuracy: 0.8003\n",
      "Epoch 78/200\n",
      "3/3 [==============================] - 0s 13ms/step - loss: 0.1153 - accuracy: 0.8499 - val_loss: 0.1457 - val_accuracy: 0.8040\n",
      "Epoch 79/200\n",
      "3/3 [==============================] - 0s 13ms/step - loss: 0.1151 - accuracy: 0.8496 - val_loss: 0.1453 - val_accuracy: 0.8011\n",
      "Epoch 80/200\n",
      "3/3 [==============================] - 0s 13ms/step - loss: 0.1145 - accuracy: 0.8532 - val_loss: 0.1451 - val_accuracy: 0.8027\n",
      "Epoch 81/200\n",
      "3/3 [==============================] - 0s 12ms/step - loss: 0.1143 - accuracy: 0.8530 - val_loss: 0.1455 - val_accuracy: 0.8003\n",
      "Epoch 82/200\n",
      "3/3 [==============================] - 0s 12ms/step - loss: 0.1138 - accuracy: 0.8549 - val_loss: 0.1448 - val_accuracy: 0.8056\n",
      "Epoch 83/200\n",
      "3/3 [==============================] - 0s 12ms/step - loss: 0.1135 - accuracy: 0.8539 - val_loss: 0.1446 - val_accuracy: 0.8031\n",
      "Epoch 84/200\n",
      "3/3 [==============================] - 0s 12ms/step - loss: 0.1135 - accuracy: 0.8558 - val_loss: 0.1449 - val_accuracy: 0.8003\n",
      "Epoch 85/200\n",
      "3/3 [==============================] - 0s 13ms/step - loss: 0.1129 - accuracy: 0.8563 - val_loss: 0.1438 - val_accuracy: 0.8064\n",
      "Epoch 86/200\n",
      "3/3 [==============================] - 0s 14ms/step - loss: 0.1124 - accuracy: 0.8568 - val_loss: 0.1441 - val_accuracy: 0.8007\n",
      "Epoch 87/200\n",
      "3/3 [==============================] - 0s 13ms/step - loss: 0.1123 - accuracy: 0.8544 - val_loss: 0.1443 - val_accuracy: 0.8011\n",
      "Epoch 88/200\n",
      "3/3 [==============================] - 0s 13ms/step - loss: 0.1117 - accuracy: 0.8568 - val_loss: 0.1429 - val_accuracy: 0.8092\n",
      "Epoch 89/200\n",
      "3/3 [==============================] - 0s 12ms/step - loss: 0.1117 - accuracy: 0.8591 - val_loss: 0.1430 - val_accuracy: 0.8068\n",
      "Epoch 90/200\n",
      "3/3 [==============================] - 0s 13ms/step - loss: 0.1115 - accuracy: 0.8589 - val_loss: 0.1438 - val_accuracy: 0.8015\n",
      "Epoch 91/200\n",
      "3/3 [==============================] - 0s 13ms/step - loss: 0.1113 - accuracy: 0.8577 - val_loss: 0.1429 - val_accuracy: 0.8035\n"
     ]
    }
   ],
   "source": [
    "\n",
    "# Import EarlyStopping\n",
    "from keras.callbacks import EarlyStopping\n",
    "\n",
    "# Specify the model\n",
    "models2 = Sequential()\n",
    "\n",
    "models2.add(Dense(20, activation='relu', input_shape = (11,)))\n",
    "models2.add(BatchNormalization())\n",
    "models2.add(Dense(40, activation='relu'))\n",
    "models2.add(Dense(2, activation='softmax'))\n",
    "\n",
    "adam = Adam(lr=0.003)\n",
    "# Compile the model\n",
    "models2.compile(optimizer = adam, loss = 'mean_squared_error',\n",
    "metrics=['accuracy'])\n",
    "\n",
    "# Define early_stopping_monitor\n",
    "early_stopping_monitor = EarlyStopping(patience = 3)\n",
    "\n",
    "# Fit the model\n",
    "models2_history = models2.fit(X_train_s, y_train_s,validation_split = 0.3,validation_data=(X_test_s, y_test_s),\n",
    "           batch_size=2048, epochs = 200, callbacks = [early_stopping_monitor])\n",
    "\n",
    "preds = models2.predict(X_test_s)"
   ]
  },
  {
   "cell_type": "code",
   "execution_count": 76,
   "metadata": {},
   "outputs": [],
   "source": []
  },
  {
   "cell_type": "code",
   "execution_count": 168,
   "metadata": {},
   "outputs": [
    {
     "data": {
      "image/png": "[encoded data removed]",
      "text/plain": [
       "<Figure size 432x288 with 1 Axes>"
      ]
     },
     "metadata": {},
     "output_type": "display_data"
    },
    {
     "data": {
      "text/plain": [
       "<Figure size 720x720 with 0 Axes>"
      ]
     },
     "metadata": {},
     "output_type": "display_data"
    }
   ],
   "source": [
    "savefig_location = \"plot_comparison.png\"\n",
    "plt.plot(models1_history.history['accuracy'])\n",
    "plt.plot(models2_history.history['accuracy'])\n",
    "plt.plot(models1_history.history['val_accuracy'])\n",
    "plt.plot(models2_history.history['val_accuracy'])\n",
    "plt.title('Model Accuracy')\n",
    "plt.ylabel('Accuracy')\n",
    "plt.xlabel('Epoch')\n",
    "plt.legend(['Model 1 Training','Model with Batch Normalization Training', \n",
    "            'Model 1 Testing', 'Model with Batch Normalization Testing'],\n",
    "           loc='center right')\n",
    "plt.figure(figsize=(10,10))\n",
    "plt.savefig(savefig_location, bbox_inches=\"tight\", dpi=880)"
   ]
  },
  {
   "cell_type": "markdown",
   "metadata": {},
   "source": [
    "## RandomForest with Gridsearch"
   ]
  },
  {
   "cell_type": "code",
   "execution_count": 138,
   "metadata": {},
   "outputs": [],
   "source": [
    "param_grid = {\n",
    "    'n_estimators':[200,150,100,50],\n",
    "    'criterion':['gini','entropy'],\n",
    "    'max_depth':[2,4,6]\n",
    "}"
   ]
  },
  {
   "cell_type": "code",
   "execution_count": 139,
   "metadata": {},
   "outputs": [
    {
     "name": "stdout",
     "output_type": "stream",
     "text": [
      "RandomForestClassifier(max_depth=6)\n"
     ]
    }
   ],
   "source": [
    "from sklearn.ensemble import RandomForestClassifier\n",
    "from sklearn.metrics import confusion_matrix, accuracy_score, classification_report\n",
    "from sklearn.model_selection import GridSearchCV\n",
    "from sklearn.model_selection import cross_val_score\n",
    "\n",
    "Model_rf = RandomForestClassifier()\n",
    "grid = GridSearchCV(estimator=Model_rf, param_grid=param_grid, n_jobs=-1)\n",
    "grid.fit(X_train, y_train)\n",
    "print(grid.best_estimator_)\n",
    "#print(\"The accuracy of RandomForestC Model is\", round((accuracy_score(y_test, y_pred)),2), '%')\n",
    "Model_rf = grid.best_estimator_"
   ]
  },
  {
   "cell_type": "code",
   "execution_count": 140,
   "metadata": {},
   "outputs": [],
   "source": [
    "y_pred = Model_rf.predict(X_test)\n",
    "y_train_pred = Model_rf.predict(X_train)"
   ]
  },
  {
   "cell_type": "code",
   "execution_count": 141,
   "metadata": {},
   "outputs": [
    {
     "name": "stdout",
     "output_type": "stream",
     "text": [
      "TEST ACCURACY SCORE : 0.80058 %\n",
      "TRAIN ACCURACY SCORE : 0.81578 %\n"
     ]
    }
   ],
   "source": [
    "print(\"TEST ACCURACY SCORE :\", round(accuracy_score(y_test, y_pred),5),'%')\n",
    "print(\"TRAIN ACCURACY SCORE :\",round(accuracy_score(y_train,y_train_pred),5),'%')"
   ]
  },
  {
   "cell_type": "code",
   "execution_count": 82,
   "metadata": {},
   "outputs": [
    {
     "name": "stdout",
     "output_type": "stream",
     "text": [
      "Scores: [0.79322854 0.81378476 0.79782082 0.77845036 0.7905569  0.82324455\n",
      " 0.82445521 0.79297821 0.78087167 0.79539952]\n",
      "Mean: 0.7990790540797714\n",
      "Standard Deviation: 0.015363684757288517\n"
     ]
    }
   ],
   "source": [
    "scores = cross_val_score(Model_rf, X_train, y_train, cv=10, scoring = \"accuracy\")\n",
    "print(\"Scores:\", scores)\n",
    "print(\"Mean:\", scores.mean())\n",
    "print(\"Standard Deviation:\", scores.std())"
   ]
  },
  {
   "cell_type": "code",
   "execution_count": 142,
   "metadata": {},
   "outputs": [],
   "source": [
    "importances = pd.DataFrame({'feature':X_train.columns,'importance':np.round(Model_rf.feature_importances_,3)})"
   ]
  },
  {
   "cell_type": "code",
   "execution_count": 143,
   "metadata": {},
   "outputs": [
    {
     "data": {
      "image/png": "[encoded data removed]",
      "text/plain": [
       "<Figure size 1080x432 with 1 Axes>"
      ]
     },
     "metadata": {},
     "output_type": "display_data"
    }
   ],
   "source": [
    "savefig_location = \"importance.png\"\n",
    "importances1 = importances.sort_values('importance',ascending=False).set_index('feature')\n",
    "importances1.plot(kind='bar',figsize=(15,6), color='darkred')\n",
    "plt.savefig(savefig_location, bbox_inches=\"tight\", dpi=880)"
   ]
  },
  {
   "cell_type": "markdown",
   "metadata": {},
   "source": [
    "### DECISIONTREE CLASSIFIER WITH RANDOMIZED SEARCH"
   ]
  },
  {
   "cell_type": "code",
   "execution_count": 144,
   "metadata": {},
   "outputs": [],
   "source": [
    "SEED = 1"
   ]
  },
  {
   "cell_type": "code",
   "execution_count": 145,
   "metadata": {
    "scrolled": true
   },
   "outputs": [
    {
     "name": "stdout",
     "output_type": "stream",
     "text": [
      "Tuned Decision Tree Parameters: {'criterion': 'entropy', 'max_depth': None, 'max_features': 8, 'min_samples_leaf': 6}\n",
      "Best score is 0.8391742239744602\n",
      "              precision    recall  f1-score   support\n",
      "\n",
      "           0       0.83      0.77      0.80      1044\n",
      "           1       0.78      0.84      0.81      1022\n",
      "\n",
      "    accuracy                           0.80      2066\n",
      "   macro avg       0.80      0.80      0.80      2066\n",
      "weighted avg       0.80      0.80      0.80      2066\n",
      "\n"
     ]
    }
   ],
   "source": [
    "# Import necessary modules\n",
    "from scipy.stats import randint\n",
    "from sklearn.tree import DecisionTreeClassifier\n",
    "from sklearn.model_selection import RandomizedSearchCV\n",
    "\n",
    "# Split into training and test set\n",
    "X_train, X_test, y_train, y_test = train_test_split(X, y, test_size = 0.2, random_state=42, stratify=y)\n",
    "\n",
    "# Setup the parameters and distributions to sample from: param_dist\n",
    "param_dist = {\"max_depth\": [3, None],\n",
    "              \"max_features\": randint(1, 9),\n",
    "              \"min_samples_leaf\": randint(1, 9),\n",
    "              \"criterion\": [\"gini\", \"entropy\"]}\n",
    "\n",
    "# Instantiate a Decision Tree classifier: tree\n",
    "dtc = DecisionTreeClassifier()\n",
    "\n",
    "# Instantiate the RandomizedSearchCV object: tree_cv\n",
    "dtc_cv = RandomizedSearchCV(dtc, param_dist, cv=5)\n",
    "\n",
    "# Fit it to the data\n",
    "\n",
    "dtc_cv.fit(X, y)\n",
    "\n",
    "# Print the tuned parameters and score\n",
    "print(\"Tuned Decision Tree Parameters: {}\".format(dtc_cv.best_params_))\n",
    "print(\"Best score is {}\".format(dtc_cv.best_score_))\n",
    "\n",
    "# Compute and print the confusion matrix and classification report\n",
    "dtc_log = confusion_matrix(y_test, y_pred)\n",
    "print(classification_report(y_test, y_pred))"
   ]
  },
  {
   "cell_type": "code",
   "execution_count": 148,
   "metadata": {},
   "outputs": [
    {
     "data": {
      "image/png": "[encoded data removed]",
      "text/plain": [
       "<Figure size 432x288 with 2 Axes>"
      ]
     },
     "metadata": {},
     "output_type": "display_data"
    }
   ],
   "source": [
    "savefig_location = \"confdec.png\"\n",
    "sns.heatmap(dtc_log/np.sum(dtc_log), annot=True, \n",
    "            fmt='.2%',linewidths=.5, cmap='Reds')\n",
    "plt.savefig(savefig_location, bbox_inches=\"tight\", dpi=880)"
   ]
  },
  {
   "cell_type": "code",
   "execution_count": 149,
   "metadata": {},
   "outputs": [
    {
     "name": "stdout",
     "output_type": "stream",
     "text": [
      "Confusion matrix, without normalization\n",
      "[[800 244]\n",
      " [168 854]]\n"
     ]
    },
    {
     "data": {
      "image/png": "[encoded data removed]",
      "text/plain": [
       "<Figure size 432x288 with 2 Axes>"
      ]
     },
     "metadata": {},
     "output_type": "display_data"
    }
   ],
   "source": [
    "savefig_location = \"confdec2.png\"\n",
    "plot_confusion_matrix(cm=dtc_log, classes=cm_plot_labels, title='Confusion Matrix')\n",
    "plt.savefig(savefig_location, bbox_inches=\"tight\", dpi=880)"
   ]
  },
  {
   "cell_type": "markdown",
   "metadata": {},
   "source": [
    "### LOGISTIC REGRESSION"
   ]
  },
  {
   "cell_type": "code",
   "execution_count": 150,
   "metadata": {},
   "outputs": [],
   "source": [
    "from sklearn.linear_model import LogisticRegression"
   ]
  },
  {
   "cell_type": "code",
   "execution_count": 151,
   "metadata": {},
   "outputs": [
    {
     "name": "stdout",
     "output_type": "stream",
     "text": [
      "              precision    recall  f1-score   support\n",
      "\n",
      "           0       0.75      0.71      0.73      1044\n",
      "           1       0.72      0.76      0.74      1022\n",
      "\n",
      "    accuracy                           0.74      2066\n",
      "   macro avg       0.74      0.74      0.74      2066\n",
      "weighted avg       0.74      0.74      0.74      2066\n",
      "\n"
     ]
    },
    {
     "name": "stderr",
     "output_type": "stream",
     "text": [
      "/Users/jacquesdeclercq/opt/miniconda3/envs/tensorflow/lib/python3.8/site-packages/sklearn/linear_model/_logistic.py:763: ConvergenceWarning: lbfgs failed to converge (status=1):\n",
      "STOP: TOTAL NO. of ITERATIONS REACHED LIMIT.\n",
      "\n",
      "Increase the number of iterations (max_iter) or scale the data as shown in:\n",
      "    https://scikit-learn.org/stable/modules/preprocessing.html\n",
      "Please also refer to the documentation for alternative solver options:\n",
      "    https://scikit-learn.org/stable/modules/linear_model.html#logistic-regression\n",
      "  n_iter_i = _check_optimize_result(\n"
     ]
    }
   ],
   "source": [
    "# Create the classifier: logreg\n",
    "logreg = LogisticRegression(random_state=1, solver='lbfgs')\n",
    "\n",
    "# Fit the classifier to the training data\n",
    "logreg.fit(X_train,y_train)\n",
    "\n",
    "# Predict the labels of the test set: y_pred\n",
    "y_pred = logreg.predict(X_test)\n",
    "\n",
    "# Compute and print the confusion matrix and classification report\n",
    "conf_log = confusion_matrix(y_test, y_pred)\n",
    "print(classification_report(y_test, y_pred))"
   ]
  },
  {
   "cell_type": "code",
   "execution_count": 152,
   "metadata": {},
   "outputs": [
    {
     "data": {
      "text/plain": [
       "<AxesSubplot:>"
      ]
     },
     "execution_count": 152,
     "metadata": {},
     "output_type": "execute_result"
    },
    {
     "data": {
      "image/png": "[encoded data removed]",
      "text/plain": [
       "<Figure size 432x288 with 2 Axes>"
      ]
     },
     "metadata": {},
     "output_type": "display_data"
    }
   ],
   "source": [
    "sns.heatmap(conf_log/np.sum(conf_log), annot=True, \n",
    "            fmt='.2%',linewidths=.5, cmap='Reds')"
   ]
  },
  {
   "cell_type": "code",
   "execution_count": 154,
   "metadata": {},
   "outputs": [
    {
     "name": "stdout",
     "output_type": "stream",
     "text": [
      "Confusion matrix, without normalization\n",
      "[[740 304]\n",
      " [243 779]]\n"
     ]
    },
    {
     "data": {
      "image/png": "[encoded data removed]",
      "text/plain": [
       "<Figure size 432x288 with 2 Axes>"
      ]
     },
     "metadata": {},
     "output_type": "display_data"
    }
   ],
   "source": [
    "savefig_location = \"conflog.png\"\n",
    "plot_confusion_matrix(cm=conf_log, classes=cm_plot_labels, title='Confusion Matrix')\n",
    "plt.savefig(savefig_location, bbox_inches=\"tight\", dpi=880)"
   ]
  },
  {
   "cell_type": "code",
   "execution_count": 155,
   "metadata": {},
   "outputs": [
    {
     "name": "stdout",
     "output_type": "stream",
     "text": [
      "Logistic Regression: ROC AUC = 0.801\n"
     ]
    }
   ],
   "source": [
    "# Import necessary modules\n",
    "from sklearn.metrics import roc_curve, roc_auc_score\n",
    "\n",
    "\n",
    "# Compute predicted probabilities: y_pred_prob\n",
    "y_pred_prob = logreg.predict_proba(X_test)[:,1]\n",
    "\n",
    "# calculate scores\n",
    "lr_auc = roc_auc_score(y_test, y_pred_prob)\n",
    "print('Logistic Regression: ROC AUC = %.3f' % (lr_auc))"
   ]
  },
  {
   "cell_type": "code",
   "execution_count": 156,
   "metadata": {},
   "outputs": [
    {
     "name": "stdout",
     "output_type": "stream",
     "text": [
      "AUC: 0.8012114702596516\n"
     ]
    },
    {
     "name": "stderr",
     "output_type": "stream",
     "text": [
      "/Users/jacquesdeclercq/opt/miniconda3/envs/tensorflow/lib/python3.8/site-packages/sklearn/linear_model/_logistic.py:763: ConvergenceWarning: lbfgs failed to converge (status=1):\n",
      "STOP: TOTAL NO. of ITERATIONS REACHED LIMIT.\n",
      "\n",
      "Increase the number of iterations (max_iter) or scale the data as shown in:\n",
      "    https://scikit-learn.org/stable/modules/preprocessing.html\n",
      "Please also refer to the documentation for alternative solver options:\n",
      "    https://scikit-learn.org/stable/modules/linear_model.html#logistic-regression\n",
      "  n_iter_i = _check_optimize_result(\n",
      "/Users/jacquesdeclercq/opt/miniconda3/envs/tensorflow/lib/python3.8/site-packages/sklearn/linear_model/_logistic.py:763: ConvergenceWarning: lbfgs failed to converge (status=1):\n",
      "STOP: TOTAL NO. of ITERATIONS REACHED LIMIT.\n",
      "\n",
      "Increase the number of iterations (max_iter) or scale the data as shown in:\n",
      "    https://scikit-learn.org/stable/modules/preprocessing.html\n",
      "Please also refer to the documentation for alternative solver options:\n",
      "    https://scikit-learn.org/stable/modules/linear_model.html#logistic-regression\n",
      "  n_iter_i = _check_optimize_result(\n",
      "/Users/jacquesdeclercq/opt/miniconda3/envs/tensorflow/lib/python3.8/site-packages/sklearn/linear_model/_logistic.py:763: ConvergenceWarning: lbfgs failed to converge (status=1):\n",
      "STOP: TOTAL NO. of ITERATIONS REACHED LIMIT.\n",
      "\n",
      "Increase the number of iterations (max_iter) or scale the data as shown in:\n",
      "    https://scikit-learn.org/stable/modules/preprocessing.html\n",
      "Please also refer to the documentation for alternative solver options:\n",
      "    https://scikit-learn.org/stable/modules/linear_model.html#logistic-regression\n",
      "  n_iter_i = _check_optimize_result(\n"
     ]
    },
    {
     "name": "stdout",
     "output_type": "stream",
     "text": [
      "AUC scores computed using 5-fold cross-validation: [0.78847069 0.84290438 0.7993698  0.74866219 0.67036768]\n"
     ]
    },
    {
     "name": "stderr",
     "output_type": "stream",
     "text": [
      "/Users/jacquesdeclercq/opt/miniconda3/envs/tensorflow/lib/python3.8/site-packages/sklearn/linear_model/_logistic.py:763: ConvergenceWarning: lbfgs failed to converge (status=1):\n",
      "STOP: TOTAL NO. of ITERATIONS REACHED LIMIT.\n",
      "\n",
      "Increase the number of iterations (max_iter) or scale the data as shown in:\n",
      "    https://scikit-learn.org/stable/modules/preprocessing.html\n",
      "Please also refer to the documentation for alternative solver options:\n",
      "    https://scikit-learn.org/stable/modules/linear_model.html#logistic-regression\n",
      "  n_iter_i = _check_optimize_result(\n",
      "/Users/jacquesdeclercq/opt/miniconda3/envs/tensorflow/lib/python3.8/site-packages/sklearn/linear_model/_logistic.py:763: ConvergenceWarning: lbfgs failed to converge (status=1):\n",
      "STOP: TOTAL NO. of ITERATIONS REACHED LIMIT.\n",
      "\n",
      "Increase the number of iterations (max_iter) or scale the data as shown in:\n",
      "    https://scikit-learn.org/stable/modules/preprocessing.html\n",
      "Please also refer to the documentation for alternative solver options:\n",
      "    https://scikit-learn.org/stable/modules/linear_model.html#logistic-regression\n",
      "  n_iter_i = _check_optimize_result(\n"
     ]
    }
   ],
   "source": [
    "from sklearn.metrics import roc_auc_score\n",
    "from sklearn.model_selection import cross_val_score\n",
    "\n",
    "# Compute predicted probabilities: y_pred_prob\n",
    "y_pred_prob = logreg.predict_proba(X_test)[:,1]\n",
    "\n",
    "# Compute and print AUC score\n",
    "print(\"AUC: {}\".format(roc_auc_score(y_test, y_pred_prob)))\n",
    "\n",
    "# Compute cross-validated AUC scores: cv_auc\n",
    "cv_auc = cross_val_score(logreg, X, y, cv = 5, scoring = 'roc_auc')\n",
    "\n",
    "# Print list of AUC scores\n",
    "print(\"AUC scores computed using 5-fold cross-validation: {}\".format(cv_auc))"
   ]
  },
  {
   "cell_type": "markdown",
   "metadata": {},
   "source": [
    "## Logistic Regression With GridSearch"
   ]
  },
  {
   "cell_type": "code",
   "execution_count": null,
   "metadata": {},
   "outputs": [],
   "source": [
    "from sklearn.model_selection import GridSearchCV\n",
    "\n",
    "# Setup the hyperparameter grid\n",
    "c_space = np.logspace(-5, 8, 15)\n",
    "param_grid = {'C': c_space}\n",
    "\n",
    "# Instantiate a logistic regression classifier: logreg\n",
    "logreg = LogisticRegression()\n",
    "\n",
    "# Instantiate the GridSearchCV object: logreg_cv\n",
    "logreg_cv = GridSearchCV(logreg, param_grid, cv=5)\n",
    "\n",
    "# Fit it to the data\n",
    "logreg_cv.fit(X, y)\n",
    "\n",
    "# Print the tuned parameters and score\n",
    "print(\"Tuned Logistic Regression Parameters: {}\".format(logreg_cv.best_params_)) \n",
    "print(\"Best score is {}\".format(logreg_cv.best_score_))"
   ]
  },
  {
   "cell_type": "code",
   "execution_count": null,
   "metadata": {},
   "outputs": [],
   "source": [
    "# Import the necessary modules\n",
    "from sklearn.linear_model import LogisticRegression\n",
    "from sklearn.metrics import confusion_matrix, classification_report\n",
    "\n",
    "# Create training and test sets\n",
    "X_train, X_test, y_train, y_test = train_test_split(X, y, test_size = 0.4, random_state=42)\n",
    "\n",
    "# Create the classifier: logreg\n",
    "logreg = LogisticRegression()\n",
    "\n",
    "# Fit the classifier to the training data\n",
    "logreg.fit(X_train,y_train)\n",
    "\n",
    "# Predict the labels of the test set: y_pred\n",
    "y_pred = logreg.predict(X_test)\n",
    "\n",
    "# Compute and print the confusion matrix and classification report\n",
    "print(confusion_matrix(y_test, y_pred))\n",
    "print(classification_report(y_test, y_pred))"
   ]
  },
  {
   "cell_type": "code",
   "execution_count": null,
   "metadata": {},
   "outputs": [],
   "source": [
    "# Import necessary modules\n",
    "from sklearn.metrics import roc_curve\n",
    "\n",
    "# Compute predicted probabilities: y_pred_prob\n",
    "y_pred_prob = logreg.predict_proba(X_test)[:,1]\n",
    "\n",
    "# Generate ROC curve values: fpr, tpr, thresholds\n",
    "fpr, tpr, thresholds = roc_curve(y_test, y_pred_prob, pos_label='1')\n",
    "\n",
    "# Plot ROC curve\n",
    "plt.plot([0, 1], [0, 1], 'k--')\n",
    "plt.plot(fpr,tpr, label = 'Logistic Regression', color =\"darkred\")\n",
    "plt.xlabel('False Positive Rate')\n",
    "plt.ylabel('True Positive Rate')\n",
    "plt.title('ROC Curve')\n",
    "plt.show()"
   ]
  },
  {
   "cell_type": "markdown",
   "metadata": {},
   "source": [
    "### Compare Decision Tree and Logistic Regression"
   ]
  },
  {
   "cell_type": "code",
   "execution_count": null,
   "metadata": {},
   "outputs": [],
   "source": [
    "from sklearn.linear_model import LogisticRegression\n",
    "from sklearn.naive_bayes import GaussianNB \n",
    "from sklearn.ensemble import RandomForestClassifier\n",
    "from sklearn.svm import SVC\n",
    "from sklearn import datasets\n",
    "import numpy as np\n",
    "\n",
    "# Initializing Classifiers\n",
    "clf1 = LogisticRegression(random_state=1,\n",
    "                          solver='newton-cg',\n",
    "                          multi_class='multinomial')\n",
    "clf2 = RandomForestClassifier(random_state=1, n_estimators=100)\n",
    "clf3 = GaussianNB()\n",
    "clf4 = SVC(gamma='auto')\n"
   ]
  },
  {
   "cell_type": "code",
   "execution_count": null,
   "metadata": {},
   "outputs": [],
   "source": [
    "X_train.info()"
   ]
  },
  {
   "cell_type": "code",
   "execution_count": null,
   "metadata": {},
   "outputs": [],
   "source": [
    "X_train = X_train.astype(int)"
   ]
  },
  {
   "cell_type": "code",
   "execution_count": null,
   "metadata": {},
   "outputs": [],
   "source": [
    "y_train = y_train.astype(int)"
   ]
  },
  {
   "cell_type": "code",
   "execution_count": null,
   "metadata": {},
   "outputs": [],
   "source": [
    "\n",
    "\n",
    "fig, ax = plt.subplots()\n",
    "\n",
    "plot_decision_regions(X=np.array(X_train), y=np.array(y_train, clf=clf,\n",
    "                      filler_feature_values={2: value, 3: value, 4: value, 5: value},\n",
    "                      filler_feature_ranges={2: width, 3: width, 4: width, 5: width},\n",
    "                      res=0.02, legend=2, ax=ax)"
   ]
  },
  {
   "cell_type": "code",
   "execution_count": 16,
   "metadata": {},
   "outputs": [
    {
     "ename": "NameError",
     "evalue": "name 'clf1' is not defined",
     "output_type": "error",
     "traceback": [
      "\u001b[0;31m---------------------------------------------------------------------------\u001b[0m",
      "\u001b[0;31mNameError\u001b[0m                                 Traceback (most recent call last)",
      "\u001b[0;32m/var/folders/ft/nh8zvn_x08sfc1y35nfy8stc0000gn/T/ipykernel_87601/1951757772.py\u001b[0m in \u001b[0;36m<module>\u001b[0;34m\u001b[0m\n\u001b[1;32m     10\u001b[0m \u001b[0;34m\u001b[0m\u001b[0m\n\u001b[1;32m     11\u001b[0m \u001b[0mlabels\u001b[0m \u001b[0;34m=\u001b[0m \u001b[0;34m[\u001b[0m\u001b[0;34m'Logistic Regression'\u001b[0m\u001b[0;34m,\u001b[0m \u001b[0;34m'Random Forest'\u001b[0m\u001b[0;34m,\u001b[0m \u001b[0;34m'Naive Bayes'\u001b[0m\u001b[0;34m,\u001b[0m \u001b[0;34m'SVM'\u001b[0m\u001b[0;34m]\u001b[0m\u001b[0;34m\u001b[0m\u001b[0;34m\u001b[0m\u001b[0m\n\u001b[0;32m---> 12\u001b[0;31m for clf, lab, grd in zip([clf1, clf2, clf3, clf4],\n\u001b[0m\u001b[1;32m     13\u001b[0m                          \u001b[0mlabels\u001b[0m\u001b[0;34m,\u001b[0m\u001b[0;34m\u001b[0m\u001b[0;34m\u001b[0m\u001b[0m\n\u001b[1;32m     14\u001b[0m                          itertools.product([0, 1], repeat=2)):\n",
      "\u001b[0;31mNameError\u001b[0m: name 'clf1' is not defined"
     ]
    },
    {
     "data": {
      "text/plain": [
       "<Figure size 720x576 with 0 Axes>"
      ]
     },
     "metadata": {},
     "output_type": "display_data"
    }
   ],
   "source": [
    "from mlxtend.plotting import plot_decision_regions\n",
    "import matplotlib.gridspec as gridspec\n",
    "\n",
    "value = 1.5\n",
    "width = 0.75\n",
    "\n",
    "gs = gridspec.GridSpec(2, 2)\n",
    "\n",
    "fig = plt.figure(figsize=(10,8))\n",
    "\n",
    "labels = ['Logistic Regression', 'Random Forest', 'Naive Bayes', 'SVM']\n",
    "for clf, lab, grd in zip([clf1, clf2, clf3, clf4],\n",
    "                         labels,\n",
    "                         itertools.product([0, 1], repeat=2)):\n",
    "\n",
    "    clf.fit(X_train, y_train)\n",
    "    ax = plt.subplot(gs[grd[0], grd[1]])\n",
    "    fig = plot_decision_regions(X=np.array(X_train), y=np.array(y_train), clf=clf,\n",
    "                      filler_feature_values={2: value, 3: value, 4: value, \n",
    "                                             5: value, 6: value,7:value,\n",
    "                                             8:value,9:value,10:value},\n",
    "                      filler_feature_ranges={2: width, 3: width, 4: width, 5: width,\n",
    "                                            6: width, 7: width, 8: width, 9: width,\n",
    "                                            10: width},\n",
    "                        legend=2, ax=ax)\n",
    "    plt.title(lab)\n",
    "\n",
    "plt.show()"
   ]
  },
  {
   "cell_type": "code",
   "execution_count": null,
   "metadata": {},
   "outputs": [],
   "source": [
    "# Instantiate a DecisionTreeClassifier 'dt' with a maximum depth of 6\n",
    "dt = DecisionTreeClassifier(criterion = 'entropy', max_depth=3,\n",
    "                            max_features = 2, min_samples_leaf= 7, random_state=SEED)\n",
    "\n",
    "# Fit dt to the training set\n",
    "dt.fit(X_train, y_train)\n",
    "\n",
    "# Predict test set labels\n",
    "y_pred = dt.predict(X_test)"
   ]
  },
  {
   "cell_type": "code",
   "execution_count": null,
   "metadata": {},
   "outputs": [],
   "source": [
    "# Import accuracy_score\n",
    "from sklearn.metrics import accuracy_score\n",
    "\n",
    "# Compute test set accuracy  \n",
    "acc = accuracy_score(y_test, y_pred)\n",
    "print(\"Test set accuracy: {:.2f}\".format(acc))"
   ]
  },
  {
   "cell_type": "code",
   "execution_count": null,
   "metadata": {},
   "outputs": [],
   "source": [
    "from mlxtend.plotting import plot_decision_regions"
   ]
  },
  {
   "cell_type": "code",
   "execution_count": null,
   "metadata": {},
   "outputs": [],
   "source": [
    "plot_decision_regions(X, y, clf=svm, legend=2)\n",
    "\n",
    "# Adding axes annotations\n",
    "plt.xlabel('sepal length [cm]')\n",
    "plt.ylabel('petal length [cm]')\n",
    "plt.title('SVM on Iris')\n",
    "plt.show()"
   ]
  },
  {
   "cell_type": "code",
   "execution_count": null,
   "metadata": {},
   "outputs": [],
   "source": [
    "# Define a list called clfs containing the two classifiers logreg and dt\n",
    "clfs = [logreg, dt]\n",
    "\n",
    "# Review the decision regions of the two classifiers\n",
    "plot_labeled_decision_regions(X_test, y_test, clfs)"
   ]
  },
  {
   "cell_type": "code",
   "execution_count": null,
   "metadata": {},
   "outputs": [],
   "source": []
  },
  {
   "cell_type": "markdown",
   "metadata": {},
   "source": [
    "### KNN NEIGBOURS\n",
    "\n"
   ]
  },
  {
   "cell_type": "code",
   "execution_count": 157,
   "metadata": {},
   "outputs": [],
   "source": [
    "# Import KNeighborsClassifier from sklearn.neighbors\n",
    "from sklearn.neighbors import KNeighborsClassifier"
   ]
  },
  {
   "cell_type": "code",
   "execution_count": 158,
   "metadata": {
    "scrolled": true
   },
   "outputs": [
    {
     "data": {
      "image/png": "[encoded data removed]",
      "text/plain": [
       "<Figure size 432x288 with 1 Axes>"
      ]
     },
     "metadata": {},
     "output_type": "display_data"
    },
    {
     "name": "stdout",
     "output_type": "stream",
     "text": [
      "Test Accuracy Score : 0.79\n",
      "Training Accuracy Score : 0.82\n"
     ]
    }
   ],
   "source": [
    "# Create a k-NN classifier with 6 neighbors\n",
    "knn = KNeighborsClassifier(n_neighbors = 6)\n",
    "\n",
    "# Split into training and test set\n",
    "X_train, X_test, y_train, y_test = train_test_split(X, y, test_size = 0.2, random_state=42, stratify=y)\n",
    "\n",
    "# Setup arrays to store train and test accuracies\n",
    "neighbors = np.arange(1, 9)\n",
    "train_accuracy = np.empty(len(neighbors))\n",
    "test_accuracy = np.empty(len(neighbors))\n",
    "\n",
    "# Loop over different values of k\n",
    "for i, k in enumerate(neighbors):\n",
    "    # Setup a k-NN Classifier with k neighbors: knn\n",
    "    knn = KNeighborsClassifier(n_neighbors = k)\n",
    "\n",
    "    # Fit the classifier to the training data\n",
    "    knn.fit(X_train, y_train)\n",
    "    \n",
    "    #Compute accuracy on the training set\n",
    "    train_accuracy[i] = knn.score(X_train, y_train)\n",
    "\n",
    "    #Compute accuracy on the testing set\n",
    "    test_accuracy[i] = knn.score(X_test, y_test)\n",
    "\n",
    "# Generate plot\n",
    "plt.title('k-NN: Varying Number of Neighbors')\n",
    "plt.plot(neighbors, test_accuracy, label = 'Testing Accuracy', color = 'darkred')\n",
    "plt.plot(neighbors, train_accuracy, label = 'Training Accuracy', color = 'pink')\n",
    "plt.legend()\n",
    "plt.xlabel('Number of Neighbors')\n",
    "plt.ylabel('Accuracy')\n",
    "plt.show()\n",
    "\n",
    "# Print the accuracy\n",
    "print(\"Test Accuracy Score :\", round(knn.score(X_test, y_test),2))\n",
    "print(\"Training Accuracy Score :\", round(knn.score(X_train, y_train),2))"
   ]
  },
  {
   "cell_type": "code",
   "execution_count": null,
   "metadata": {},
   "outputs": [],
   "source": []
  },
  {
   "cell_type": "code",
   "execution_count": null,
   "metadata": {},
   "outputs": [],
   "source": []
  },
  {
   "cell_type": "code",
   "execution_count": null,
   "metadata": {},
   "outputs": [],
   "source": []
  },
  {
   "cell_type": "code",
   "execution_count": null,
   "metadata": {},
   "outputs": [],
   "source": []
  },
  {
   "cell_type": "code",
   "execution_count": null,
   "metadata": {},
   "outputs": [],
   "source": []
  },
  {
   "cell_type": "code",
   "execution_count": null,
   "metadata": {},
   "outputs": [],
   "source": []
  },
  {
   "cell_type": "code",
   "execution_count": null,
   "metadata": {},
   "outputs": [],
   "source": []
  },
  {
   "cell_type": "code",
   "execution_count": null,
   "metadata": {},
   "outputs": [],
   "source": []
  },
  {
   "cell_type": "code",
   "execution_count": null,
   "metadata": {},
   "outputs": [],
   "source": []
  },
  {
   "cell_type": "code",
   "execution_count": null,
   "metadata": {},
   "outputs": [],
   "source": []
  },
  {
   "cell_type": "code",
   "execution_count": null,
   "metadata": {},
   "outputs": [],
   "source": []
  },
  {
   "cell_type": "code",
   "execution_count": null,
   "metadata": {},
   "outputs": [],
   "source": []
  }
 ],
 "metadata": {
  "kernelspec": {
   "display_name": "Python 3.9.5 (tensorflow)",
   "language": "python",
   "name": "tensorflow"
  },
  "language_info": {
   "codemirror_mode": {
    "name": "ipython",
    "version": 3
   },
   "file_extension": ".py",
   "mimetype": "text/x-python",
   "name": "python",
   "nbconvert_exporter": "python",
   "pygments_lexer": "ipython3",
   "version": "3.8.11"
  }
 },
 "nbformat": 4,
 "nbformat_minor": 4
}
